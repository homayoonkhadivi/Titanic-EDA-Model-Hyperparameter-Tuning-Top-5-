{
 "cells": [
  {
   "cell_type": "markdown",
   "metadata": {
    "papermill": {
     "duration": 0.072492,
     "end_time": "2020-12-22T16:40:31.463926",
     "exception": false,
     "start_time": "2020-12-22T16:40:31.391434",
     "status": "completed"
    },
    "tags": []
   },
   "source": [
    "\n",
    "\n",
    "Content of The Titanic Exploratory Data Analysis\n",
    "1. [Chapter-1 Data Load and Check](#1)\n",
    "    * [1-Outlier Detection](#2)\n",
    "    * [2-Joining Test and Train Data](#3)\n",
    "    * [3-Feature Check](#4)\n",
    "1. [Chapter-2 Data Analysis](#5)\n",
    "    * [1-Feature Analysis](#6)\n",
    "    * [2-Correlation Between Feature](#7)\n",
    "1. [Chapter-3 Missing Value](#8)\n",
    "    * [1-Find Missing Value](#9)\n",
    "    * [2-Fill Missing Value](#10)\n",
    "1. [Chapter-4 Data Engineering](#11)\n",
    "    * [1-New Feature](#12)\n",
    "    * [2-Drop Feature](#13)\n",
    "    * [3-One Hot Encoding](#14)\n",
    "1. [Chapter-5 Modeling](#16)\n",
    "    * [1-Train-Test Split](#17)\n",
    "    * [2-Classification Methods](#18)\n",
    "    * [3-Ensemble Modeling](#19)\n",
    "    * [4-Result](#20)\n",
    "\n",
    "\n",
    "   \n",
    "    \n",
    "    \n",
    "    \n",
    "    \n",
    "\n",
    "\n",
    "\n",
    "    \n",
    "    \n",
    "    "
   ]
  },
  {
   "cell_type": "markdown",
   "metadata": {
    "papermill": {
     "duration": 0.071904,
     "end_time": "2020-12-22T16:40:31.605616",
     "exception": false,
     "start_time": "2020-12-22T16:40:31.533712",
     "status": "completed"
    },
    "tags": []
   },
   "source": [
    "<a id='1'></a><br>\n",
    "# Chapter:1 Data Load And Check"
   ]
  },
  {
   "cell_type": "code",
   "execution_count": 1,
   "metadata": {
    "_cell_guid": "b1076dfc-b9ad-4769-8c92-a6c4dae69d19",
    "_uuid": "8f2839f25d086af736a60e9eeb907d3b93b6e0e5",
    "execution": {
     "iopub.execute_input": "2020-12-22T16:40:31.750879Z",
     "iopub.status.busy": "2020-12-22T16:40:31.749895Z",
     "iopub.status.idle": "2020-12-22T16:40:32.917312Z",
     "shell.execute_reply": "2020-12-22T16:40:32.917865Z"
    },
    "papermill": {
     "duration": 1.241161,
     "end_time": "2020-12-22T16:40:32.918035",
     "exception": false,
     "start_time": "2020-12-22T16:40:31.676874",
     "status": "completed"
    },
    "tags": []
   },
   "outputs": [
    {
     "name": "stdout",
     "output_type": "stream",
     "text": [
      "/kaggle/input/titanic/train.csv\n",
      "/kaggle/input/titanic/test.csv\n",
      "/kaggle/input/titanic/gender_submission.csv\n"
     ]
    }
   ],
   "source": [
    "import numpy as np \n",
    "import pandas as pd \n",
    "import matplotlib.pyplot as plt \n",
    "import seaborn as sns  \n",
    "\n",
    "from collections import Counter\n",
    "\n",
    "import warnings\n",
    "warnings.filterwarnings(\"ignore\")\n",
    "\n",
    "\n",
    "from sklearn.preprocessing import OneHotEncoder, LabelEncoder\n",
    "\n",
    "import os\n",
    "for dirname, _, filenames in os.walk('/kaggle/input'):\n",
    "    for filename in filenames:\n",
    "        print(os.path.join(dirname, filename))"
   ]
  },
  {
   "cell_type": "code",
   "execution_count": 2,
   "metadata": {
    "execution": {
     "iopub.execute_input": "2020-12-22T16:40:33.070273Z",
     "iopub.status.busy": "2020-12-22T16:40:33.069195Z",
     "iopub.status.idle": "2020-12-22T16:40:33.102600Z",
     "shell.execute_reply": "2020-12-22T16:40:33.103205Z"
    },
    "papermill": {
     "duration": 0.114167,
     "end_time": "2020-12-22T16:40:33.103347",
     "exception": false,
     "start_time": "2020-12-22T16:40:32.989180",
     "status": "completed"
    },
    "tags": []
   },
   "outputs": [
    {
     "data": {
      "text/plain": [
       "Index(['PassengerId', 'Survived', 'Pclass', 'Name', 'Sex', 'Age', 'SibSp',\n",
       "       'Parch', 'Ticket', 'Fare', 'Cabin', 'Embarked'],\n",
       "      dtype='object')"
      ]
     },
     "execution_count": 2,
     "metadata": {},
     "output_type": "execute_result"
    }
   ],
   "source": [
    "train_data = pd.read_csv(\"../input/titanic/train.csv\")\n",
    "test_data = pd.read_csv(\"../input/titanic/test.csv\")\n",
    "\n",
    "\n",
    "train_data.columns"
   ]
  },
  {
   "cell_type": "code",
   "execution_count": 3,
   "metadata": {
    "execution": {
     "iopub.execute_input": "2020-12-22T16:40:33.250318Z",
     "iopub.status.busy": "2020-12-22T16:40:33.249296Z",
     "iopub.status.idle": "2020-12-22T16:40:33.278483Z",
     "shell.execute_reply": "2020-12-22T16:40:33.279021Z"
    },
    "papermill": {
     "duration": 0.103735,
     "end_time": "2020-12-22T16:40:33.279166",
     "exception": false,
     "start_time": "2020-12-22T16:40:33.175431",
     "status": "completed"
    },
    "tags": []
   },
   "outputs": [
    {
     "data": {
      "text/html": [
       "<div>\n",
       "<style scoped>\n",
       "    .dataframe tbody tr th:only-of-type {\n",
       "        vertical-align: middle;\n",
       "    }\n",
       "\n",
       "    .dataframe tbody tr th {\n",
       "        vertical-align: top;\n",
       "    }\n",
       "\n",
       "    .dataframe thead th {\n",
       "        text-align: right;\n",
       "    }\n",
       "</style>\n",
       "<table border=\"1\" class=\"dataframe\">\n",
       "  <thead>\n",
       "    <tr style=\"text-align: right;\">\n",
       "      <th></th>\n",
       "      <th>PassengerId</th>\n",
       "      <th>Survived</th>\n",
       "      <th>Pclass</th>\n",
       "      <th>Name</th>\n",
       "      <th>Sex</th>\n",
       "      <th>Age</th>\n",
       "      <th>SibSp</th>\n",
       "      <th>Parch</th>\n",
       "      <th>Ticket</th>\n",
       "      <th>Fare</th>\n",
       "      <th>Cabin</th>\n",
       "      <th>Embarked</th>\n",
       "    </tr>\n",
       "  </thead>\n",
       "  <tbody>\n",
       "    <tr>\n",
       "      <th>0</th>\n",
       "      <td>1</td>\n",
       "      <td>0</td>\n",
       "      <td>3</td>\n",
       "      <td>Braund, Mr. Owen Harris</td>\n",
       "      <td>male</td>\n",
       "      <td>22.0</td>\n",
       "      <td>1</td>\n",
       "      <td>0</td>\n",
       "      <td>A/5 21171</td>\n",
       "      <td>7.2500</td>\n",
       "      <td>NaN</td>\n",
       "      <td>S</td>\n",
       "    </tr>\n",
       "    <tr>\n",
       "      <th>1</th>\n",
       "      <td>2</td>\n",
       "      <td>1</td>\n",
       "      <td>1</td>\n",
       "      <td>Cumings, Mrs. John Bradley (Florence Briggs Th...</td>\n",
       "      <td>female</td>\n",
       "      <td>38.0</td>\n",
       "      <td>1</td>\n",
       "      <td>0</td>\n",
       "      <td>PC 17599</td>\n",
       "      <td>71.2833</td>\n",
       "      <td>C85</td>\n",
       "      <td>C</td>\n",
       "    </tr>\n",
       "    <tr>\n",
       "      <th>2</th>\n",
       "      <td>3</td>\n",
       "      <td>1</td>\n",
       "      <td>3</td>\n",
       "      <td>Heikkinen, Miss. Laina</td>\n",
       "      <td>female</td>\n",
       "      <td>26.0</td>\n",
       "      <td>0</td>\n",
       "      <td>0</td>\n",
       "      <td>STON/O2. 3101282</td>\n",
       "      <td>7.9250</td>\n",
       "      <td>NaN</td>\n",
       "      <td>S</td>\n",
       "    </tr>\n",
       "    <tr>\n",
       "      <th>3</th>\n",
       "      <td>4</td>\n",
       "      <td>1</td>\n",
       "      <td>1</td>\n",
       "      <td>Futrelle, Mrs. Jacques Heath (Lily May Peel)</td>\n",
       "      <td>female</td>\n",
       "      <td>35.0</td>\n",
       "      <td>1</td>\n",
       "      <td>0</td>\n",
       "      <td>113803</td>\n",
       "      <td>53.1000</td>\n",
       "      <td>C123</td>\n",
       "      <td>S</td>\n",
       "    </tr>\n",
       "    <tr>\n",
       "      <th>4</th>\n",
       "      <td>5</td>\n",
       "      <td>0</td>\n",
       "      <td>3</td>\n",
       "      <td>Allen, Mr. William Henry</td>\n",
       "      <td>male</td>\n",
       "      <td>35.0</td>\n",
       "      <td>0</td>\n",
       "      <td>0</td>\n",
       "      <td>373450</td>\n",
       "      <td>8.0500</td>\n",
       "      <td>NaN</td>\n",
       "      <td>S</td>\n",
       "    </tr>\n",
       "  </tbody>\n",
       "</table>\n",
       "</div>"
      ],
      "text/plain": [
       "   PassengerId  Survived  Pclass  \\\n",
       "0            1         0       3   \n",
       "1            2         1       1   \n",
       "2            3         1       3   \n",
       "3            4         1       1   \n",
       "4            5         0       3   \n",
       "\n",
       "                                                Name     Sex   Age  SibSp  \\\n",
       "0                            Braund, Mr. Owen Harris    male  22.0      1   \n",
       "1  Cumings, Mrs. John Bradley (Florence Briggs Th...  female  38.0      1   \n",
       "2                             Heikkinen, Miss. Laina  female  26.0      0   \n",
       "3       Futrelle, Mrs. Jacques Heath (Lily May Peel)  female  35.0      1   \n",
       "4                           Allen, Mr. William Henry    male  35.0      0   \n",
       "\n",
       "   Parch            Ticket     Fare Cabin Embarked  \n",
       "0      0         A/5 21171   7.2500   NaN        S  \n",
       "1      0          PC 17599  71.2833   C85        C  \n",
       "2      0  STON/O2. 3101282   7.9250   NaN        S  \n",
       "3      0            113803  53.1000  C123        S  \n",
       "4      0            373450   8.0500   NaN        S  "
      ]
     },
     "execution_count": 3,
     "metadata": {},
     "output_type": "execute_result"
    }
   ],
   "source": [
    "train_data.head()"
   ]
  },
  {
   "cell_type": "code",
   "execution_count": 4,
   "metadata": {
    "execution": {
     "iopub.execute_input": "2020-12-22T16:40:33.435811Z",
     "iopub.status.busy": "2020-12-22T16:40:33.434746Z",
     "iopub.status.idle": "2020-12-22T16:40:33.442492Z",
     "shell.execute_reply": "2020-12-22T16:40:33.441952Z"
    },
    "papermill": {
     "duration": 0.091669,
     "end_time": "2020-12-22T16:40:33.442620",
     "exception": false,
     "start_time": "2020-12-22T16:40:33.350951",
     "status": "completed"
    },
    "tags": []
   },
   "outputs": [
    {
     "name": "stdout",
     "output_type": "stream",
     "text": [
      "<class 'pandas.core.frame.DataFrame'>\n",
      "RangeIndex: 891 entries, 0 to 890\n",
      "Data columns (total 12 columns):\n",
      " #   Column       Non-Null Count  Dtype  \n",
      "---  ------       --------------  -----  \n",
      " 0   PassengerId  891 non-null    int64  \n",
      " 1   Survived     891 non-null    int64  \n",
      " 2   Pclass       891 non-null    int64  \n",
      " 3   Name         891 non-null    object \n",
      " 4   Sex          891 non-null    object \n",
      " 5   Age          714 non-null    float64\n",
      " 6   SibSp        891 non-null    int64  \n",
      " 7   Parch        891 non-null    int64  \n",
      " 8   Ticket       891 non-null    object \n",
      " 9   Fare         891 non-null    float64\n",
      " 10  Cabin        204 non-null    object \n",
      " 11  Embarked     889 non-null    object \n",
      "dtypes: float64(2), int64(5), object(5)\n",
      "memory usage: 83.7+ KB\n"
     ]
    }
   ],
   "source": [
    "train_data.info()"
   ]
  },
  {
   "attachments": {
    "oie_384549KoGQkTap.png": {
     "image/png": "[encoded data removed]"
    }
   },
   "cell_type": "markdown",
   "metadata": {
    "papermill": {
     "duration": 0.071611,
     "end_time": "2020-12-22T16:40:33.585777",
     "exception": false,
     "start_time": "2020-12-22T16:40:33.514166",
     "status": "completed"
    },
    "tags": []
   },
   "source": [
    " <a id='2'></a><br>\n",
    "## 1-Outlier Detection\n",
    "\n",
    "\n",
    "![oie_384549KoGQkTap.png](attachment:oie_384549KoGQkTap.png)\n",
    "\n",
    "* Q1 = 1.Quartile 25%\n",
    "* Q2 = 2.Quartile 50% (median)\n",
    "* Q3 = 3.Quartile 75%\n",
    "* IQR = Q3 - Q1\n",
    "* Outlier data = (Q1 - 1.5 IQR ) U (Q3 + 1.5 IQR)\n",
    "\n"
   ]
  },
  {
   "cell_type": "code",
   "execution_count": 5,
   "metadata": {
    "execution": {
     "iopub.execute_input": "2020-12-22T16:40:33.740603Z",
     "iopub.status.busy": "2020-12-22T16:40:33.739897Z",
     "iopub.status.idle": "2020-12-22T16:40:33.767473Z",
     "shell.execute_reply": "2020-12-22T16:40:33.768199Z"
    },
    "papermill": {
     "duration": 0.108943,
     "end_time": "2020-12-22T16:40:33.768349",
     "exception": false,
     "start_time": "2020-12-22T16:40:33.659406",
     "status": "completed"
    },
    "tags": []
   },
   "outputs": [
    {
     "data": {
      "text/html": [
       "<div>\n",
       "<style scoped>\n",
       "    .dataframe tbody tr th:only-of-type {\n",
       "        vertical-align: middle;\n",
       "    }\n",
       "\n",
       "    .dataframe tbody tr th {\n",
       "        vertical-align: top;\n",
       "    }\n",
       "\n",
       "    .dataframe thead th {\n",
       "        text-align: right;\n",
       "    }\n",
       "</style>\n",
       "<table border=\"1\" class=\"dataframe\">\n",
       "  <thead>\n",
       "    <tr style=\"text-align: right;\">\n",
       "      <th></th>\n",
       "      <th>PassengerId</th>\n",
       "      <th>Survived</th>\n",
       "      <th>Pclass</th>\n",
       "      <th>Age</th>\n",
       "      <th>SibSp</th>\n",
       "      <th>Parch</th>\n",
       "      <th>Fare</th>\n",
       "    </tr>\n",
       "  </thead>\n",
       "  <tbody>\n",
       "    <tr>\n",
       "      <th>count</th>\n",
       "      <td>891.000000</td>\n",
       "      <td>891.000000</td>\n",
       "      <td>891.000000</td>\n",
       "      <td>714.000000</td>\n",
       "      <td>891.000000</td>\n",
       "      <td>891.000000</td>\n",
       "      <td>891.000000</td>\n",
       "    </tr>\n",
       "    <tr>\n",
       "      <th>mean</th>\n",
       "      <td>446.000000</td>\n",
       "      <td>0.383838</td>\n",
       "      <td>2.308642</td>\n",
       "      <td>29.699118</td>\n",
       "      <td>0.523008</td>\n",
       "      <td>0.381594</td>\n",
       "      <td>32.204208</td>\n",
       "    </tr>\n",
       "    <tr>\n",
       "      <th>std</th>\n",
       "      <td>257.353842</td>\n",
       "      <td>0.486592</td>\n",
       "      <td>0.836071</td>\n",
       "      <td>14.526497</td>\n",
       "      <td>1.102743</td>\n",
       "      <td>0.806057</td>\n",
       "      <td>49.693429</td>\n",
       "    </tr>\n",
       "    <tr>\n",
       "      <th>min</th>\n",
       "      <td>1.000000</td>\n",
       "      <td>0.000000</td>\n",
       "      <td>1.000000</td>\n",
       "      <td>0.420000</td>\n",
       "      <td>0.000000</td>\n",
       "      <td>0.000000</td>\n",
       "      <td>0.000000</td>\n",
       "    </tr>\n",
       "    <tr>\n",
       "      <th>25%</th>\n",
       "      <td>223.500000</td>\n",
       "      <td>0.000000</td>\n",
       "      <td>2.000000</td>\n",
       "      <td>20.125000</td>\n",
       "      <td>0.000000</td>\n",
       "      <td>0.000000</td>\n",
       "      <td>7.910400</td>\n",
       "    </tr>\n",
       "    <tr>\n",
       "      <th>50%</th>\n",
       "      <td>446.000000</td>\n",
       "      <td>0.000000</td>\n",
       "      <td>3.000000</td>\n",
       "      <td>28.000000</td>\n",
       "      <td>0.000000</td>\n",
       "      <td>0.000000</td>\n",
       "      <td>14.454200</td>\n",
       "    </tr>\n",
       "    <tr>\n",
       "      <th>75%</th>\n",
       "      <td>668.500000</td>\n",
       "      <td>1.000000</td>\n",
       "      <td>3.000000</td>\n",
       "      <td>38.000000</td>\n",
       "      <td>1.000000</td>\n",
       "      <td>0.000000</td>\n",
       "      <td>31.000000</td>\n",
       "    </tr>\n",
       "    <tr>\n",
       "      <th>max</th>\n",
       "      <td>891.000000</td>\n",
       "      <td>1.000000</td>\n",
       "      <td>3.000000</td>\n",
       "      <td>80.000000</td>\n",
       "      <td>8.000000</td>\n",
       "      <td>6.000000</td>\n",
       "      <td>512.329200</td>\n",
       "    </tr>\n",
       "  </tbody>\n",
       "</table>\n",
       "</div>"
      ],
      "text/plain": [
       "       PassengerId    Survived      Pclass         Age       SibSp  \\\n",
       "count   891.000000  891.000000  891.000000  714.000000  891.000000   \n",
       "mean    446.000000    0.383838    2.308642   29.699118    0.523008   \n",
       "std     257.353842    0.486592    0.836071   14.526497    1.102743   \n",
       "min       1.000000    0.000000    1.000000    0.420000    0.000000   \n",
       "25%     223.500000    0.000000    2.000000   20.125000    0.000000   \n",
       "50%     446.000000    0.000000    3.000000   28.000000    0.000000   \n",
       "75%     668.500000    1.000000    3.000000   38.000000    1.000000   \n",
       "max     891.000000    1.000000    3.000000   80.000000    8.000000   \n",
       "\n",
       "            Parch        Fare  \n",
       "count  891.000000  891.000000  \n",
       "mean     0.381594   32.204208  \n",
       "std      0.806057   49.693429  \n",
       "min      0.000000    0.000000  \n",
       "25%      0.000000    7.910400  \n",
       "50%      0.000000   14.454200  \n",
       "75%      0.000000   31.000000  \n",
       "max      6.000000  512.329200  "
      ]
     },
     "execution_count": 5,
     "metadata": {},
     "output_type": "execute_result"
    }
   ],
   "source": [
    "train_data.describe()"
   ]
  },
  {
   "cell_type": "code",
   "execution_count": 6,
   "metadata": {
    "execution": {
     "iopub.execute_input": "2020-12-22T16:40:33.919682Z",
     "iopub.status.busy": "2020-12-22T16:40:33.918988Z",
     "iopub.status.idle": "2020-12-22T16:40:33.927759Z",
     "shell.execute_reply": "2020-12-22T16:40:33.928310Z"
    },
    "papermill": {
     "duration": 0.086086,
     "end_time": "2020-12-22T16:40:33.928467",
     "exception": false,
     "start_time": "2020-12-22T16:40:33.842381",
     "status": "completed"
    },
    "tags": []
   },
   "outputs": [],
   "source": [
    "def outlier_detect(feature, data):\n",
    "    outlier_index = []\n",
    "\n",
    "    for each in feature:\n",
    "        Q1 = np.percentile(data[each], 25)\n",
    "        Q3 = np.percentile(data[each], 75)\n",
    "        IQR = Q3 - Q1\n",
    "        min_quartile = Q1 - 1.5*IQR\n",
    "        max_quartile = Q3 + 1.5*IQR\n",
    "        outlier_list = data[(data[each] < min_quartile) | (data[each] > max_quartile)].index\n",
    "        outlier_index.extend(outlier_list)\n",
    "        \n",
    "    outlier_index = Counter(outlier_index)\n",
    "    #If there are three or more outlier data features we must delete them. (n)\n",
    "    outlier_data = list(i for i, n in outlier_index.items() if n > 3)\n",
    "    return outlier_data"
   ]
  },
  {
   "cell_type": "code",
   "execution_count": 7,
   "metadata": {
    "execution": {
     "iopub.execute_input": "2020-12-22T16:40:34.096247Z",
     "iopub.status.busy": "2020-12-22T16:40:34.095532Z",
     "iopub.status.idle": "2020-12-22T16:40:34.148122Z",
     "shell.execute_reply": "2020-12-22T16:40:34.147392Z"
    },
    "papermill": {
     "duration": 0.145878,
     "end_time": "2020-12-22T16:40:34.148254",
     "exception": false,
     "start_time": "2020-12-22T16:40:34.002376",
     "status": "completed"
    },
    "tags": []
   },
   "outputs": [
    {
     "data": {
      "text/html": [
       "<div>\n",
       "<style scoped>\n",
       "    .dataframe tbody tr th:only-of-type {\n",
       "        vertical-align: middle;\n",
       "    }\n",
       "\n",
       "    .dataframe tbody tr th {\n",
       "        vertical-align: top;\n",
       "    }\n",
       "\n",
       "    .dataframe thead th {\n",
       "        text-align: right;\n",
       "    }\n",
       "</style>\n",
       "<table border=\"1\" class=\"dataframe\">\n",
       "  <thead>\n",
       "    <tr style=\"text-align: right;\">\n",
       "      <th></th>\n",
       "      <th>PassengerId</th>\n",
       "      <th>Survived</th>\n",
       "      <th>Pclass</th>\n",
       "      <th>Name</th>\n",
       "      <th>Sex</th>\n",
       "      <th>Age</th>\n",
       "      <th>SibSp</th>\n",
       "      <th>Parch</th>\n",
       "      <th>Ticket</th>\n",
       "      <th>Fare</th>\n",
       "      <th>Cabin</th>\n",
       "      <th>Embarked</th>\n",
       "    </tr>\n",
       "  </thead>\n",
       "  <tbody>\n",
       "  </tbody>\n",
       "</table>\n",
       "</div>"
      ],
      "text/plain": [
       "Empty DataFrame\n",
       "Columns: [PassengerId, Survived, Pclass, Name, Sex, Age, SibSp, Parch, Ticket, Fare, Cabin, Embarked]\n",
       "Index: []"
      ]
     },
     "execution_count": 7,
     "metadata": {},
     "output_type": "execute_result"
    }
   ],
   "source": [
    "outlier_data = outlier_detect([\"Age\",\"SibSp\",\"Parch\",\"Fare\"], train_data)\n",
    "train_data.loc[outlier_data]\n"
   ]
  },
  {
   "cell_type": "code",
   "execution_count": 8,
   "metadata": {
    "execution": {
     "iopub.execute_input": "2020-12-22T16:40:34.325268Z",
     "iopub.status.busy": "2020-12-22T16:40:34.324403Z",
     "iopub.status.idle": "2020-12-22T16:40:34.328078Z",
     "shell.execute_reply": "2020-12-22T16:40:34.328625Z"
    },
    "papermill": {
     "duration": 0.085981,
     "end_time": "2020-12-22T16:40:34.328866",
     "exception": false,
     "start_time": "2020-12-22T16:40:34.242885",
     "status": "completed"
    },
    "tags": []
   },
   "outputs": [],
   "source": [
    "train_data = train_data.drop(outlier_data, axis=0).reset_index(drop=True)"
   ]
  },
  {
   "cell_type": "markdown",
   "metadata": {
    "papermill": {
     "duration": 0.073154,
     "end_time": "2020-12-22T16:40:34.475269",
     "exception": false,
     "start_time": "2020-12-22T16:40:34.402115",
     "status": "completed"
    },
    "tags": []
   },
   "source": [
    "<a id='3'></a><br>\n",
    "## 2-Combining Train and Test Data\n",
    "\n",
    "\n",
    "* Train_data and test_data are combined so that data is obtained. \n"
   ]
  },
  {
   "cell_type": "code",
   "execution_count": 9,
   "metadata": {
    "execution": {
     "iopub.execute_input": "2020-12-22T16:40:34.629289Z",
     "iopub.status.busy": "2020-12-22T16:40:34.628271Z",
     "iopub.status.idle": "2020-12-22T16:40:34.640951Z",
     "shell.execute_reply": "2020-12-22T16:40:34.641519Z"
    },
    "papermill": {
     "duration": 0.093267,
     "end_time": "2020-12-22T16:40:34.641690",
     "exception": false,
     "start_time": "2020-12-22T16:40:34.548423",
     "status": "completed"
    },
    "tags": []
   },
   "outputs": [],
   "source": [
    "data = pd.concat([train_data, test_data], axis=0).reset_index(drop=True)"
   ]
  },
  {
   "cell_type": "markdown",
   "metadata": {
    "papermill": {
     "duration": 0.073373,
     "end_time": "2020-12-22T16:40:34.789589",
     "exception": false,
     "start_time": "2020-12-22T16:40:34.716216",
     "status": "completed"
    },
    "tags": []
   },
   "source": [
    "<a id='4'></a><br>\n",
    "## 3-Feature Analysis\n",
    "\n",
    "Object\n",
    "1. Name        : \n",
    "1. Sex         : male and female\n",
    "1. Ticket      : ticket number\n",
    "1. Cabin       : cabin category\n",
    "1. Embarked    : port C, Q and S\n",
    "\n",
    "Int64\n",
    "1. PassengerId : unique id number\n",
    "1. Survived    : 0 -> died ,1-> survived\n",
    "1. Pclasss     : 1, 2 and 3 \n",
    "1. SibSp       : number of siblings/spouse\n",
    "1. Parch       : number of parent/children\n",
    "\n",
    "Float64\n",
    "1. Age         : age of passenger\n",
    "1. Fare        : price of the ticket"
   ]
  },
  {
   "cell_type": "markdown",
   "metadata": {
    "papermill": {
     "duration": 0.074414,
     "end_time": "2020-12-22T16:40:34.939357",
     "exception": false,
     "start_time": "2020-12-22T16:40:34.864943",
     "status": "completed"
    },
    "tags": []
   },
   "source": [
    "### Survived"
   ]
  },
  {
   "cell_type": "code",
   "execution_count": 10,
   "metadata": {
    "execution": {
     "iopub.execute_input": "2020-12-22T16:40:35.106714Z",
     "iopub.status.busy": "2020-12-22T16:40:35.105702Z",
     "iopub.status.idle": "2020-12-22T16:40:35.271518Z",
     "shell.execute_reply": "2020-12-22T16:40:35.272157Z"
    },
    "papermill": {
     "duration": 0.253972,
     "end_time": "2020-12-22T16:40:35.272315",
     "exception": false,
     "start_time": "2020-12-22T16:40:35.018343",
     "status": "completed"
    },
    "tags": []
   },
   "outputs": [
    {
     "data": {
      "text/plain": [
       "<matplotlib.axes._subplots.AxesSubplot at 0x7fee608ab450>"
      ]
     },
     "execution_count": 10,
     "metadata": {},
     "output_type": "execute_result"
    },
    {
     "data": {
      "image/png": "[encoded data removed]",
      "text/plain": [
       "<Figure size 432x288 with 1 Axes>"
      ]
     },
     "metadata": {
      "needs_background": "light"
     },
     "output_type": "display_data"
    }
   ],
   "source": [
    "sns.countplot('Survived',data=train_data )\n"
   ]
  },
  {
   "cell_type": "code",
   "execution_count": 11,
   "metadata": {
    "execution": {
     "iopub.execute_input": "2020-12-22T16:40:35.431336Z",
     "iopub.status.busy": "2020-12-22T16:40:35.430497Z",
     "iopub.status.idle": "2020-12-22T16:40:35.459066Z",
     "shell.execute_reply": "2020-12-22T16:40:35.459624Z"
    },
    "papermill": {
     "duration": 0.111367,
     "end_time": "2020-12-22T16:40:35.459765",
     "exception": false,
     "start_time": "2020-12-22T16:40:35.348398",
     "status": "completed"
    },
    "tags": []
   },
   "outputs": [
    {
     "data": {
      "text/html": [
       "<div>\n",
       "<style scoped>\n",
       "    .dataframe tbody tr th:only-of-type {\n",
       "        vertical-align: middle;\n",
       "    }\n",
       "\n",
       "    .dataframe tbody tr th {\n",
       "        vertical-align: top;\n",
       "    }\n",
       "\n",
       "    .dataframe thead th {\n",
       "        text-align: right;\n",
       "    }\n",
       "</style>\n",
       "<table border=\"1\" class=\"dataframe\">\n",
       "  <thead>\n",
       "    <tr style=\"text-align: right;\">\n",
       "      <th></th>\n",
       "      <th>PassengerId</th>\n",
       "      <th>Survived</th>\n",
       "      <th>Pclass</th>\n",
       "      <th>Age</th>\n",
       "      <th>SibSp</th>\n",
       "      <th>Parch</th>\n",
       "      <th>Fare</th>\n",
       "    </tr>\n",
       "  </thead>\n",
       "  <tbody>\n",
       "    <tr>\n",
       "      <th>count</th>\n",
       "      <td>1309.000000</td>\n",
       "      <td>891.000000</td>\n",
       "      <td>1309.000000</td>\n",
       "      <td>1046.000000</td>\n",
       "      <td>1309.000000</td>\n",
       "      <td>1309.000000</td>\n",
       "      <td>1308.000000</td>\n",
       "    </tr>\n",
       "    <tr>\n",
       "      <th>mean</th>\n",
       "      <td>655.000000</td>\n",
       "      <td>0.383838</td>\n",
       "      <td>2.294882</td>\n",
       "      <td>29.881138</td>\n",
       "      <td>0.498854</td>\n",
       "      <td>0.385027</td>\n",
       "      <td>33.295479</td>\n",
       "    </tr>\n",
       "    <tr>\n",
       "      <th>std</th>\n",
       "      <td>378.020061</td>\n",
       "      <td>0.486592</td>\n",
       "      <td>0.837836</td>\n",
       "      <td>14.413493</td>\n",
       "      <td>1.041658</td>\n",
       "      <td>0.865560</td>\n",
       "      <td>51.758668</td>\n",
       "    </tr>\n",
       "    <tr>\n",
       "      <th>min</th>\n",
       "      <td>1.000000</td>\n",
       "      <td>0.000000</td>\n",
       "      <td>1.000000</td>\n",
       "      <td>0.170000</td>\n",
       "      <td>0.000000</td>\n",
       "      <td>0.000000</td>\n",
       "      <td>0.000000</td>\n",
       "    </tr>\n",
       "    <tr>\n",
       "      <th>25%</th>\n",
       "      <td>328.000000</td>\n",
       "      <td>0.000000</td>\n",
       "      <td>2.000000</td>\n",
       "      <td>21.000000</td>\n",
       "      <td>0.000000</td>\n",
       "      <td>0.000000</td>\n",
       "      <td>7.895800</td>\n",
       "    </tr>\n",
       "    <tr>\n",
       "      <th>50%</th>\n",
       "      <td>655.000000</td>\n",
       "      <td>0.000000</td>\n",
       "      <td>3.000000</td>\n",
       "      <td>28.000000</td>\n",
       "      <td>0.000000</td>\n",
       "      <td>0.000000</td>\n",
       "      <td>14.454200</td>\n",
       "    </tr>\n",
       "    <tr>\n",
       "      <th>75%</th>\n",
       "      <td>982.000000</td>\n",
       "      <td>1.000000</td>\n",
       "      <td>3.000000</td>\n",
       "      <td>39.000000</td>\n",
       "      <td>1.000000</td>\n",
       "      <td>0.000000</td>\n",
       "      <td>31.275000</td>\n",
       "    </tr>\n",
       "    <tr>\n",
       "      <th>max</th>\n",
       "      <td>1309.000000</td>\n",
       "      <td>1.000000</td>\n",
       "      <td>3.000000</td>\n",
       "      <td>80.000000</td>\n",
       "      <td>8.000000</td>\n",
       "      <td>9.000000</td>\n",
       "      <td>512.329200</td>\n",
       "    </tr>\n",
       "  </tbody>\n",
       "</table>\n",
       "</div>"
      ],
      "text/plain": [
       "       PassengerId    Survived       Pclass          Age        SibSp  \\\n",
       "count  1309.000000  891.000000  1309.000000  1046.000000  1309.000000   \n",
       "mean    655.000000    0.383838     2.294882    29.881138     0.498854   \n",
       "std     378.020061    0.486592     0.837836    14.413493     1.041658   \n",
       "min       1.000000    0.000000     1.000000     0.170000     0.000000   \n",
       "25%     328.000000    0.000000     2.000000    21.000000     0.000000   \n",
       "50%     655.000000    0.000000     3.000000    28.000000     0.000000   \n",
       "75%     982.000000    1.000000     3.000000    39.000000     1.000000   \n",
       "max    1309.000000    1.000000     3.000000    80.000000     8.000000   \n",
       "\n",
       "             Parch         Fare  \n",
       "count  1309.000000  1308.000000  \n",
       "mean      0.385027    33.295479  \n",
       "std       0.865560    51.758668  \n",
       "min       0.000000     0.000000  \n",
       "25%       0.000000     7.895800  \n",
       "50%       0.000000    14.454200  \n",
       "75%       0.000000    31.275000  \n",
       "max       9.000000   512.329200  "
      ]
     },
     "execution_count": 11,
     "metadata": {},
     "output_type": "execute_result"
    }
   ],
   "source": [
    "data.describe()"
   ]
  },
  {
   "cell_type": "markdown",
   "metadata": {
    "papermill": {
     "duration": 0.077979,
     "end_time": "2020-12-22T16:40:35.613816",
     "exception": false,
     "start_time": "2020-12-22T16:40:35.535837",
     "status": "completed"
    },
    "tags": []
   },
   "source": [
    "<a id='5'></a><br>\n",
    "# Chapter:2 Data Analysis\n",
    "\n",
    "* Feature Analysis\n",
    "* Corelation Between Features\n",
    "\n"
   ]
  },
  {
   "cell_type": "markdown",
   "metadata": {
    "papermill": {
     "duration": 0.076876,
     "end_time": "2020-12-22T16:40:35.766119",
     "exception": false,
     "start_time": "2020-12-22T16:40:35.689243",
     "status": "completed"
    },
    "tags": []
   },
   "source": [
    "<a id='6'></a><br>\n",
    "## 1- Feature Analysis\n",
    "\n",
    "* Sex - Survived\n",
    "* Pclass - Survived\n",
    "* Embarked - Survived\n",
    "* SibSp - Survived\n",
    "* Parch - Survived\n",
    "* Age - Survived\n",
    "* Fare - Survived"
   ]
  },
  {
   "cell_type": "markdown",
   "metadata": {
    "papermill": {
     "duration": 0.074965,
     "end_time": "2020-12-22T16:40:35.916643",
     "exception": false,
     "start_time": "2020-12-22T16:40:35.841678",
     "status": "completed"
    },
    "tags": []
   },
   "source": [
    "### Sex - Survived\n",
    "\n",
    "Female are more likely to survive than male."
   ]
  },
  {
   "cell_type": "code",
   "execution_count": 12,
   "metadata": {
    "execution": {
     "iopub.execute_input": "2020-12-22T16:40:36.078450Z",
     "iopub.status.busy": "2020-12-22T16:40:36.077792Z",
     "iopub.status.idle": "2020-12-22T16:40:36.081425Z",
     "shell.execute_reply": "2020-12-22T16:40:36.080897Z"
    },
    "papermill": {
     "duration": 0.08951,
     "end_time": "2020-12-22T16:40:36.081545",
     "exception": false,
     "start_time": "2020-12-22T16:40:35.992035",
     "status": "completed"
    },
    "tags": []
   },
   "outputs": [
    {
     "data": {
      "text/plain": [
       "Index(['PassengerId', 'Survived', 'Pclass', 'Age', 'SibSp', 'Parch', 'Fare'], dtype='object')"
      ]
     },
     "execution_count": 12,
     "metadata": {},
     "output_type": "execute_result"
    }
   ],
   "source": [
    "data.select_dtypes(include=[\"int\", \"float64\"]).columns"
   ]
  },
  {
   "cell_type": "code",
   "execution_count": 13,
   "metadata": {
    "execution": {
     "iopub.execute_input": "2020-12-22T16:40:36.250730Z",
     "iopub.status.busy": "2020-12-22T16:40:36.250027Z",
     "iopub.status.idle": "2020-12-22T16:40:36.252990Z",
     "shell.execute_reply": "2020-12-22T16:40:36.253613Z"
    },
    "papermill": {
     "duration": 0.095635,
     "end_time": "2020-12-22T16:40:36.253766",
     "exception": false,
     "start_time": "2020-12-22T16:40:36.158131",
     "status": "completed"
    },
    "tags": []
   },
   "outputs": [
    {
     "data": {
      "text/html": [
       "<div>\n",
       "<style scoped>\n",
       "    .dataframe tbody tr th:only-of-type {\n",
       "        vertical-align: middle;\n",
       "    }\n",
       "\n",
       "    .dataframe tbody tr th {\n",
       "        vertical-align: top;\n",
       "    }\n",
       "\n",
       "    .dataframe thead th {\n",
       "        text-align: right;\n",
       "    }\n",
       "</style>\n",
       "<table border=\"1\" class=\"dataframe\">\n",
       "  <thead>\n",
       "    <tr style=\"text-align: right;\">\n",
       "      <th></th>\n",
       "      <th>Sex</th>\n",
       "      <th>Survived</th>\n",
       "    </tr>\n",
       "  </thead>\n",
       "  <tbody>\n",
       "    <tr>\n",
       "      <th>0</th>\n",
       "      <td>female</td>\n",
       "      <td>0.742038</td>\n",
       "    </tr>\n",
       "    <tr>\n",
       "      <th>1</th>\n",
       "      <td>male</td>\n",
       "      <td>0.188908</td>\n",
       "    </tr>\n",
       "  </tbody>\n",
       "</table>\n",
       "</div>"
      ],
      "text/plain": [
       "      Sex  Survived\n",
       "0  female  0.742038\n",
       "1    male  0.188908"
      ]
     },
     "execution_count": 13,
     "metadata": {},
     "output_type": "execute_result"
    }
   ],
   "source": [
    "data[[\"Sex\", \"Survived\"]].groupby([\"Sex\"], as_index = False).mean()"
   ]
  },
  {
   "cell_type": "code",
   "execution_count": 14,
   "metadata": {
    "execution": {
     "iopub.execute_input": "2020-12-22T16:40:36.411892Z",
     "iopub.status.busy": "2020-12-22T16:40:36.411220Z",
     "iopub.status.idle": "2020-12-22T16:40:36.648310Z",
     "shell.execute_reply": "2020-12-22T16:40:36.647748Z"
    },
    "papermill": {
     "duration": 0.316593,
     "end_time": "2020-12-22T16:40:36.648434",
     "exception": false,
     "start_time": "2020-12-22T16:40:36.331841",
     "status": "completed"
    },
    "tags": []
   },
   "outputs": [
    {
     "data": {
      "image/png": "[encoded data removed]",
      "text/plain": [
       "<Figure size 216x216 with 1 Axes>"
      ]
     },
     "metadata": {
      "needs_background": "light"
     },
     "output_type": "display_data"
    }
   ],
   "source": [
    "sns.factorplot(x=\"Sex\", y =\"Survived\", data=data, kind=\"bar\", size=3)\n",
    "plt.show()"
   ]
  },
  {
   "cell_type": "markdown",
   "metadata": {
    "papermill": {
     "duration": 0.076734,
     "end_time": "2020-12-22T16:40:36.803156",
     "exception": false,
     "start_time": "2020-12-22T16:40:36.726422",
     "status": "completed"
    },
    "tags": []
   },
   "source": [
    "### Pclass - Survived"
   ]
  },
  {
   "cell_type": "code",
   "execution_count": 15,
   "metadata": {
    "execution": {
     "iopub.execute_input": "2020-12-22T16:40:36.965785Z",
     "iopub.status.busy": "2020-12-22T16:40:36.965040Z",
     "iopub.status.idle": "2020-12-22T16:40:37.243744Z",
     "shell.execute_reply": "2020-12-22T16:40:37.244275Z"
    },
    "papermill": {
     "duration": 0.363098,
     "end_time": "2020-12-22T16:40:37.244420",
     "exception": false,
     "start_time": "2020-12-22T16:40:36.881322",
     "status": "completed"
    },
    "tags": []
   },
   "outputs": [
    {
     "data": {
      "image/png": "[encoded data removed]",
      "text/plain": [
       "<Figure size 216x216 with 1 Axes>"
      ]
     },
     "metadata": {
      "needs_background": "light"
     },
     "output_type": "display_data"
    }
   ],
   "source": [
    "sns.factorplot(x=\"Pclass\", y =\"Survived\", data=data, kind=\"bar\", size=3)\n",
    "plt.show()"
   ]
  },
  {
   "cell_type": "markdown",
   "metadata": {
    "papermill": {
     "duration": 0.07753,
     "end_time": "2020-12-22T16:40:37.401167",
     "exception": false,
     "start_time": "2020-12-22T16:40:37.323637",
     "status": "completed"
    },
    "tags": []
   },
   "source": [
    "### Embarked - Survived"
   ]
  },
  {
   "cell_type": "code",
   "execution_count": 16,
   "metadata": {
    "execution": {
     "iopub.execute_input": "2020-12-22T16:40:37.562021Z",
     "iopub.status.busy": "2020-12-22T16:40:37.560982Z",
     "iopub.status.idle": "2020-12-22T16:40:37.833492Z",
     "shell.execute_reply": "2020-12-22T16:40:37.832751Z"
    },
    "papermill": {
     "duration": 0.354169,
     "end_time": "2020-12-22T16:40:37.833633",
     "exception": false,
     "start_time": "2020-12-22T16:40:37.479464",
     "status": "completed"
    },
    "tags": []
   },
   "outputs": [
    {
     "data": {
      "image/png": "[encoded data removed]",
      "text/plain": [
       "<Figure size 216x216 with 1 Axes>"
      ]
     },
     "metadata": {
      "needs_background": "light"
     },
     "output_type": "display_data"
    }
   ],
   "source": [
    "sns.factorplot(x=\"Embarked\", y =\"Survived\", data=data, kind=\"bar\", size=3)\n",
    "plt.show()"
   ]
  },
  {
   "cell_type": "markdown",
   "metadata": {
    "papermill": {
     "duration": 0.07977,
     "end_time": "2020-12-22T16:40:38.042637",
     "exception": false,
     "start_time": "2020-12-22T16:40:37.962867",
     "status": "completed"
    },
    "tags": []
   },
   "source": [
    "### SibSp - Survived"
   ]
  },
  {
   "cell_type": "code",
   "execution_count": 17,
   "metadata": {
    "execution": {
     "iopub.execute_input": "2020-12-22T16:40:38.216389Z",
     "iopub.status.busy": "2020-12-22T16:40:38.215106Z",
     "iopub.status.idle": "2020-12-22T16:40:38.638726Z",
     "shell.execute_reply": "2020-12-22T16:40:38.637945Z"
    },
    "papermill": {
     "duration": 0.511134,
     "end_time": "2020-12-22T16:40:38.638856",
     "exception": false,
     "start_time": "2020-12-22T16:40:38.127722",
     "status": "completed"
    },
    "tags": []
   },
   "outputs": [
    {
     "data": {
      "image/png": "[encoded data removed]",
      "text/plain": [
       "<Figure size 216x216 with 1 Axes>"
      ]
     },
     "metadata": {
      "needs_background": "light"
     },
     "output_type": "display_data"
    }
   ],
   "source": [
    "sns.factorplot(x=\"SibSp\", y =\"Survived\", data=data, kind=\"bar\", size=3)\n",
    "plt.show()"
   ]
  },
  {
   "cell_type": "markdown",
   "metadata": {
    "papermill": {
     "duration": 0.081068,
     "end_time": "2020-12-22T16:40:38.803402",
     "exception": false,
     "start_time": "2020-12-22T16:40:38.722334",
     "status": "completed"
    },
    "tags": []
   },
   "source": [
    "### Parch - Survived"
   ]
  },
  {
   "cell_type": "code",
   "execution_count": 18,
   "metadata": {
    "execution": {
     "iopub.execute_input": "2020-12-22T16:40:38.974181Z",
     "iopub.status.busy": "2020-12-22T16:40:38.972208Z",
     "iopub.status.idle": "2020-12-22T16:40:39.460821Z",
     "shell.execute_reply": "2020-12-22T16:40:39.460134Z"
    },
    "papermill": {
     "duration": 0.575979,
     "end_time": "2020-12-22T16:40:39.460938",
     "exception": false,
     "start_time": "2020-12-22T16:40:38.884959",
     "status": "completed"
    },
    "tags": []
   },
   "outputs": [
    {
     "data": {
      "image/png": "[encoded data removed]",
      "text/plain": [
       "<Figure size 216x216 with 1 Axes>"
      ]
     },
     "metadata": {
      "needs_background": "light"
     },
     "output_type": "display_data"
    }
   ],
   "source": [
    "sns.factorplot(x=\"Parch\", y =\"Survived\", data=data, kind=\"bar\", size=3)\n",
    "plt.show()"
   ]
  },
  {
   "cell_type": "markdown",
   "metadata": {
    "papermill": {
     "duration": 0.082663,
     "end_time": "2020-12-22T16:40:39.624308",
     "exception": false,
     "start_time": "2020-12-22T16:40:39.541645",
     "status": "completed"
    },
    "tags": []
   },
   "source": [
    "[](http://) ### Age - Survived"
   ]
  },
  {
   "cell_type": "code",
   "execution_count": 19,
   "metadata": {
    "execution": {
     "iopub.execute_input": "2020-12-22T16:40:39.806944Z",
     "iopub.status.busy": "2020-12-22T16:40:39.806200Z",
     "iopub.status.idle": "2020-12-22T16:40:40.398772Z",
     "shell.execute_reply": "2020-12-22T16:40:40.398029Z"
    },
    "papermill": {
     "duration": 0.693145,
     "end_time": "2020-12-22T16:40:40.398902",
     "exception": false,
     "start_time": "2020-12-22T16:40:39.705757",
     "status": "completed"
    },
    "tags": []
   },
   "outputs": [
    {
     "data": {
      "image/png": "[encoded data removed]",
      "text/plain": [
       "<Figure size 216x432 with 2 Axes>"
      ]
     },
     "metadata": {
      "needs_background": "light"
     },
     "output_type": "display_data"
    }
   ],
   "source": [
    "g = sns.FacetGrid(data, row=\"Survived\")\n",
    "g.map(sns.distplot, \"Age\", bins=25)\n",
    "plt.show()"
   ]
  },
  {
   "cell_type": "markdown",
   "metadata": {
    "papermill": {
     "duration": 0.085842,
     "end_time": "2020-12-22T16:40:40.567594",
     "exception": false,
     "start_time": "2020-12-22T16:40:40.481752",
     "status": "completed"
    },
    "tags": []
   },
   "source": [
    " ### Fare - Survived"
   ]
  },
  {
   "cell_type": "code",
   "execution_count": 20,
   "metadata": {
    "execution": {
     "iopub.execute_input": "2020-12-22T16:40:40.750806Z",
     "iopub.status.busy": "2020-12-22T16:40:40.746323Z",
     "iopub.status.idle": "2020-12-22T16:40:41.327422Z",
     "shell.execute_reply": "2020-12-22T16:40:41.326716Z"
    },
    "papermill": {
     "duration": 0.677052,
     "end_time": "2020-12-22T16:40:41.327570",
     "exception": false,
     "start_time": "2020-12-22T16:40:40.650518",
     "status": "completed"
    },
    "tags": []
   },
   "outputs": [
    {
     "data": {
      "image/png": "[encoded data removed]",
      "text/plain": [
       "<Figure size 216x432 with 2 Axes>"
      ]
     },
     "metadata": {
      "needs_background": "light"
     },
     "output_type": "display_data"
    }
   ],
   "source": [
    "g = sns.FacetGrid(data, row=\"Survived\")\n",
    "g.map(sns.distplot, \"Fare\", bins=25)\n",
    "plt.show()"
   ]
  },
  {
   "cell_type": "markdown",
   "metadata": {
    "papermill": {
     "duration": 0.083196,
     "end_time": "2020-12-22T16:40:41.495069",
     "exception": false,
     "start_time": "2020-12-22T16:40:41.411873",
     "status": "completed"
    },
    "tags": []
   },
   "source": [
    "<a id='7'></a><br>\n",
    "## 2-Correlation Between Features"
   ]
  },
  {
   "cell_type": "code",
   "execution_count": 21,
   "metadata": {
    "execution": {
     "iopub.execute_input": "2020-12-22T16:40:41.675702Z",
     "iopub.status.busy": "2020-12-22T16:40:41.674437Z",
     "iopub.status.idle": "2020-12-22T16:40:42.142237Z",
     "shell.execute_reply": "2020-12-22T16:40:42.142797Z"
    },
    "papermill": {
     "duration": 0.564625,
     "end_time": "2020-12-22T16:40:42.142976",
     "exception": false,
     "start_time": "2020-12-22T16:40:41.578351",
     "status": "completed"
    },
    "tags": []
   },
   "outputs": [
    {
     "data": {
      "image/png": "[encoded data removed]",
      "text/plain": [
       "<Figure size 432x288 with 2 Axes>"
      ]
     },
     "metadata": {
      "needs_background": "light"
     },
     "output_type": "display_data"
    }
   ],
   "source": [
    "#data[\"Sex\"] = [0 if i == \"male\" else 1 for i in data[\"Sex\"]]\n",
    "data['Sex'].replace(['male','female'],[0,1],inplace=True)\n",
    "data['Embarked'].replace(['S','C','Q'],[0,1,2],inplace=True)\n",
    "# male: 0, famela: 1\n",
    "sns.heatmap(data[[\"Age\",\"Sex\",\"SibSp\",\"Parch\",\"Pclass\",\"Fare\",\"Embarked\", \"Survived\"]].corr(), annot = True)\n",
    "plt.show()"
   ]
  },
  {
   "cell_type": "markdown",
   "metadata": {
    "papermill": {
     "duration": 0.089615,
     "end_time": "2020-12-22T16:40:42.319785",
     "exception": false,
     "start_time": "2020-12-22T16:40:42.230170",
     "status": "completed"
    },
    "tags": []
   },
   "source": [
    "**Outcome**    \n",
    "\n",
    "* Sex, Pclass, Fare and Embarked are associated with Survived. \n",
    "\n",
    "\n"
   ]
  },
  {
   "cell_type": "markdown",
   "metadata": {
    "papermill": {
     "duration": 0.085211,
     "end_time": "2020-12-22T16:40:42.491204",
     "exception": false,
     "start_time": "2020-12-22T16:40:42.405993",
     "status": "completed"
    },
    "tags": []
   },
   "source": [
    "<a id='8'></a><br>\n",
    "# Chapter-3 Missing Value\n",
    "\n",
    "* Find Missing Value\n",
    "* Fill Missing Value\n"
   ]
  },
  {
   "cell_type": "markdown",
   "metadata": {
    "papermill": {
     "duration": 0.089998,
     "end_time": "2020-12-22T16:40:42.667208",
     "exception": false,
     "start_time": "2020-12-22T16:40:42.577210",
     "status": "completed"
    },
    "tags": []
   },
   "source": [
    "<a id='9'></a><br>\n",
    "## 1-Find Missing Value\n",
    "\n",
    "* Age, Fare and Cabin have missing value. Therefore we are looking at the correlation matrix.\n",
    "\n",
    "Correlation Matrix\n",
    "* Pclass is associated with Fare.\n",
    "* Embarked is not associated with any feature.\n",
    "* Pclass and SibSp are associated with Age."
   ]
  },
  {
   "cell_type": "code",
   "execution_count": 22,
   "metadata": {
    "execution": {
     "iopub.execute_input": "2020-12-22T16:40:42.850299Z",
     "iopub.status.busy": "2020-12-22T16:40:42.849512Z",
     "iopub.status.idle": "2020-12-22T16:40:42.856606Z",
     "shell.execute_reply": "2020-12-22T16:40:42.855912Z"
    },
    "papermill": {
     "duration": 0.099793,
     "end_time": "2020-12-22T16:40:42.856728",
     "exception": false,
     "start_time": "2020-12-22T16:40:42.756935",
     "status": "completed"
    },
    "tags": []
   },
   "outputs": [
    {
     "data": {
      "text/plain": [
       "Index(['Survived', 'Age', 'Fare', 'Cabin', 'Embarked'], dtype='object')"
      ]
     },
     "execution_count": 22,
     "metadata": {},
     "output_type": "execute_result"
    }
   ],
   "source": [
    "data.columns[data.isnull().any()]"
   ]
  },
  {
   "cell_type": "code",
   "execution_count": 23,
   "metadata": {
    "execution": {
     "iopub.execute_input": "2020-12-22T16:40:43.043852Z",
     "iopub.status.busy": "2020-12-22T16:40:43.042743Z",
     "iopub.status.idle": "2020-12-22T16:40:43.051416Z",
     "shell.execute_reply": "2020-12-22T16:40:43.051981Z"
    },
    "papermill": {
     "duration": 0.103729,
     "end_time": "2020-12-22T16:40:43.052127",
     "exception": false,
     "start_time": "2020-12-22T16:40:42.948398",
     "status": "completed"
    },
    "tags": []
   },
   "outputs": [
    {
     "data": {
      "text/plain": [
       "PassengerId       0\n",
       "Survived        418\n",
       "Pclass            0\n",
       "Name              0\n",
       "Sex               0\n",
       "Age             263\n",
       "SibSp             0\n",
       "Parch             0\n",
       "Ticket            0\n",
       "Fare              1\n",
       "Cabin          1014\n",
       "Embarked          2\n",
       "dtype: int64"
      ]
     },
     "execution_count": 23,
     "metadata": {},
     "output_type": "execute_result"
    }
   ],
   "source": [
    "data.isnull().sum()"
   ]
  },
  {
   "cell_type": "markdown",
   "metadata": {
    "papermill": {
     "duration": 0.08879,
     "end_time": "2020-12-22T16:40:43.227072",
     "exception": false,
     "start_time": "2020-12-22T16:40:43.138282",
     "status": "completed"
    },
    "tags": []
   },
   "source": [
    "<a id='10'></a><br>\n",
    "## 2-Fill Missing Value\n",
    "\n",
    "* Cabin has 1007 missing value\n",
    "* Age has 256 missing value\n",
    "* Embarked has 2 missing value\n",
    "* Fare has 1 missing value\n",
    "\n",
    "Not: Survived has 418 missing value (only test value)"
   ]
  },
  {
   "cell_type": "markdown",
   "metadata": {
    "papermill": {
     "duration": 0.086959,
     "end_time": "2020-12-22T16:40:43.402057",
     "exception": false,
     "start_time": "2020-12-22T16:40:43.315098",
     "status": "completed"
    },
    "tags": []
   },
   "source": [
    "### Fare Fill Value\n",
    "\n",
    "Pclass is associated with Fare."
   ]
  },
  {
   "cell_type": "code",
   "execution_count": 24,
   "metadata": {
    "execution": {
     "iopub.execute_input": "2020-12-22T16:40:43.577004Z",
     "iopub.status.busy": "2020-12-22T16:40:43.575938Z",
     "iopub.status.idle": "2020-12-22T16:40:43.593210Z",
     "shell.execute_reply": "2020-12-22T16:40:43.592514Z"
    },
    "papermill": {
     "duration": 0.106102,
     "end_time": "2020-12-22T16:40:43.593406",
     "exception": false,
     "start_time": "2020-12-22T16:40:43.487304",
     "status": "completed"
    },
    "tags": []
   },
   "outputs": [
    {
     "data": {
      "text/html": [
       "<div>\n",
       "<style scoped>\n",
       "    .dataframe tbody tr th:only-of-type {\n",
       "        vertical-align: middle;\n",
       "    }\n",
       "\n",
       "    .dataframe tbody tr th {\n",
       "        vertical-align: top;\n",
       "    }\n",
       "\n",
       "    .dataframe thead th {\n",
       "        text-align: right;\n",
       "    }\n",
       "</style>\n",
       "<table border=\"1\" class=\"dataframe\">\n",
       "  <thead>\n",
       "    <tr style=\"text-align: right;\">\n",
       "      <th></th>\n",
       "      <th>PassengerId</th>\n",
       "      <th>Survived</th>\n",
       "      <th>Pclass</th>\n",
       "      <th>Name</th>\n",
       "      <th>Sex</th>\n",
       "      <th>Age</th>\n",
       "      <th>SibSp</th>\n",
       "      <th>Parch</th>\n",
       "      <th>Ticket</th>\n",
       "      <th>Fare</th>\n",
       "      <th>Cabin</th>\n",
       "      <th>Embarked</th>\n",
       "    </tr>\n",
       "  </thead>\n",
       "  <tbody>\n",
       "    <tr>\n",
       "      <th>1043</th>\n",
       "      <td>1044</td>\n",
       "      <td>NaN</td>\n",
       "      <td>3</td>\n",
       "      <td>Storey, Mr. Thomas</td>\n",
       "      <td>0</td>\n",
       "      <td>60.5</td>\n",
       "      <td>0</td>\n",
       "      <td>0</td>\n",
       "      <td>3701</td>\n",
       "      <td>NaN</td>\n",
       "      <td>NaN</td>\n",
       "      <td>0.0</td>\n",
       "    </tr>\n",
       "  </tbody>\n",
       "</table>\n",
       "</div>"
      ],
      "text/plain": [
       "      PassengerId  Survived  Pclass                Name  Sex   Age  SibSp  \\\n",
       "1043         1044       NaN       3  Storey, Mr. Thomas    0  60.5      0   \n",
       "\n",
       "      Parch Ticket  Fare Cabin  Embarked  \n",
       "1043      0   3701   NaN   NaN       0.0  "
      ]
     },
     "execution_count": 24,
     "metadata": {},
     "output_type": "execute_result"
    }
   ],
   "source": [
    "data[data[\"Fare\"].isnull()]"
   ]
  },
  {
   "cell_type": "code",
   "execution_count": 25,
   "metadata": {
    "execution": {
     "iopub.execute_input": "2020-12-22T16:40:43.785251Z",
     "iopub.status.busy": "2020-12-22T16:40:43.784432Z",
     "iopub.status.idle": "2020-12-22T16:40:43.787866Z",
     "shell.execute_reply": "2020-12-22T16:40:43.788349Z"
    },
    "papermill": {
     "duration": 0.1066,
     "end_time": "2020-12-22T16:40:43.788498",
     "exception": false,
     "start_time": "2020-12-22T16:40:43.681898",
     "status": "completed"
    },
    "tags": []
   },
   "outputs": [
    {
     "data": {
      "text/html": [
       "<div>\n",
       "<style scoped>\n",
       "    .dataframe tbody tr th:only-of-type {\n",
       "        vertical-align: middle;\n",
       "    }\n",
       "\n",
       "    .dataframe tbody tr th {\n",
       "        vertical-align: top;\n",
       "    }\n",
       "\n",
       "    .dataframe thead th {\n",
       "        text-align: right;\n",
       "    }\n",
       "</style>\n",
       "<table border=\"1\" class=\"dataframe\">\n",
       "  <thead>\n",
       "    <tr style=\"text-align: right;\">\n",
       "      <th></th>\n",
       "      <th>PassengerId</th>\n",
       "      <th>Survived</th>\n",
       "      <th>Pclass</th>\n",
       "      <th>Name</th>\n",
       "      <th>Sex</th>\n",
       "      <th>Age</th>\n",
       "      <th>SibSp</th>\n",
       "      <th>Parch</th>\n",
       "      <th>Ticket</th>\n",
       "      <th>Fare</th>\n",
       "      <th>Cabin</th>\n",
       "      <th>Embarked</th>\n",
       "    </tr>\n",
       "  </thead>\n",
       "  <tbody>\n",
       "  </tbody>\n",
       "</table>\n",
       "</div>"
      ],
      "text/plain": [
       "Empty DataFrame\n",
       "Columns: [PassengerId, Survived, Pclass, Name, Sex, Age, SibSp, Parch, Ticket, Fare, Cabin, Embarked]\n",
       "Index: []"
      ]
     },
     "execution_count": 25,
     "metadata": {},
     "output_type": "execute_result"
    }
   ],
   "source": [
    "data[\"Fare\"] = data[\"Fare\"].fillna(np.mean(data[((data[\"Pclass\"]==3) & (data[\"Embarked\"]==0))][\"Fare\"]))\n",
    "data[data[\"Fare\"].isnull()]"
   ]
  },
  {
   "cell_type": "markdown",
   "metadata": {
    "papermill": {
     "duration": 0.086978,
     "end_time": "2020-12-22T16:40:43.964813",
     "exception": false,
     "start_time": "2020-12-22T16:40:43.877835",
     "status": "completed"
    },
    "tags": []
   },
   "source": [
    "### Embarked Fill Value\n",
    "\n",
    "Embarked is not associated with any feature.\n",
    "\n",
    "S = 0,  C = 1 and Q = 2"
   ]
  },
  {
   "cell_type": "code",
   "execution_count": 26,
   "metadata": {
    "execution": {
     "iopub.execute_input": "2020-12-22T16:40:44.152841Z",
     "iopub.status.busy": "2020-12-22T16:40:44.152095Z",
     "iopub.status.idle": "2020-12-22T16:40:44.169300Z",
     "shell.execute_reply": "2020-12-22T16:40:44.169888Z"
    },
    "papermill": {
     "duration": 0.110962,
     "end_time": "2020-12-22T16:40:44.170042",
     "exception": false,
     "start_time": "2020-12-22T16:40:44.059080",
     "status": "completed"
    },
    "tags": []
   },
   "outputs": [
    {
     "data": {
      "text/html": [
       "<div>\n",
       "<style scoped>\n",
       "    .dataframe tbody tr th:only-of-type {\n",
       "        vertical-align: middle;\n",
       "    }\n",
       "\n",
       "    .dataframe tbody tr th {\n",
       "        vertical-align: top;\n",
       "    }\n",
       "\n",
       "    .dataframe thead th {\n",
       "        text-align: right;\n",
       "    }\n",
       "</style>\n",
       "<table border=\"1\" class=\"dataframe\">\n",
       "  <thead>\n",
       "    <tr style=\"text-align: right;\">\n",
       "      <th></th>\n",
       "      <th>PassengerId</th>\n",
       "      <th>Survived</th>\n",
       "      <th>Pclass</th>\n",
       "      <th>Name</th>\n",
       "      <th>Sex</th>\n",
       "      <th>Age</th>\n",
       "      <th>SibSp</th>\n",
       "      <th>Parch</th>\n",
       "      <th>Ticket</th>\n",
       "      <th>Fare</th>\n",
       "      <th>Cabin</th>\n",
       "      <th>Embarked</th>\n",
       "    </tr>\n",
       "  </thead>\n",
       "  <tbody>\n",
       "    <tr>\n",
       "      <th>61</th>\n",
       "      <td>62</td>\n",
       "      <td>1.0</td>\n",
       "      <td>1</td>\n",
       "      <td>Icard, Miss. Amelie</td>\n",
       "      <td>1</td>\n",
       "      <td>38.0</td>\n",
       "      <td>0</td>\n",
       "      <td>0</td>\n",
       "      <td>113572</td>\n",
       "      <td>80.0</td>\n",
       "      <td>B28</td>\n",
       "      <td>NaN</td>\n",
       "    </tr>\n",
       "    <tr>\n",
       "      <th>829</th>\n",
       "      <td>830</td>\n",
       "      <td>1.0</td>\n",
       "      <td>1</td>\n",
       "      <td>Stone, Mrs. George Nelson (Martha Evelyn)</td>\n",
       "      <td>1</td>\n",
       "      <td>62.0</td>\n",
       "      <td>0</td>\n",
       "      <td>0</td>\n",
       "      <td>113572</td>\n",
       "      <td>80.0</td>\n",
       "      <td>B28</td>\n",
       "      <td>NaN</td>\n",
       "    </tr>\n",
       "  </tbody>\n",
       "</table>\n",
       "</div>"
      ],
      "text/plain": [
       "     PassengerId  Survived  Pclass                                       Name  \\\n",
       "61            62       1.0       1                        Icard, Miss. Amelie   \n",
       "829          830       1.0       1  Stone, Mrs. George Nelson (Martha Evelyn)   \n",
       "\n",
       "     Sex   Age  SibSp  Parch  Ticket  Fare Cabin  Embarked  \n",
       "61     1  38.0      0      0  113572  80.0   B28       NaN  \n",
       "829    1  62.0      0      0  113572  80.0   B28       NaN  "
      ]
     },
     "execution_count": 26,
     "metadata": {},
     "output_type": "execute_result"
    }
   ],
   "source": [
    "data[data[\"Embarked\"].isnull()]"
   ]
  },
  {
   "cell_type": "code",
   "execution_count": 27,
   "metadata": {
    "execution": {
     "iopub.execute_input": "2020-12-22T16:40:44.357258Z",
     "iopub.status.busy": "2020-12-22T16:40:44.356521Z",
     "iopub.status.idle": "2020-12-22T16:40:44.369488Z",
     "shell.execute_reply": "2020-12-22T16:40:44.370110Z"
    },
    "papermill": {
     "duration": 0.109574,
     "end_time": "2020-12-22T16:40:44.370273",
     "exception": false,
     "start_time": "2020-12-22T16:40:44.260699",
     "status": "completed"
    },
    "tags": []
   },
   "outputs": [
    {
     "data": {
      "text/html": [
       "<div>\n",
       "<style scoped>\n",
       "    .dataframe tbody tr th:only-of-type {\n",
       "        vertical-align: middle;\n",
       "    }\n",
       "\n",
       "    .dataframe tbody tr th {\n",
       "        vertical-align: top;\n",
       "    }\n",
       "\n",
       "    .dataframe thead th {\n",
       "        text-align: right;\n",
       "    }\n",
       "</style>\n",
       "<table border=\"1\" class=\"dataframe\">\n",
       "  <thead>\n",
       "    <tr style=\"text-align: right;\">\n",
       "      <th></th>\n",
       "      <th>PassengerId</th>\n",
       "      <th>Survived</th>\n",
       "      <th>Pclass</th>\n",
       "      <th>Name</th>\n",
       "      <th>Sex</th>\n",
       "      <th>Age</th>\n",
       "      <th>SibSp</th>\n",
       "      <th>Parch</th>\n",
       "      <th>Ticket</th>\n",
       "      <th>Fare</th>\n",
       "      <th>Cabin</th>\n",
       "      <th>Embarked</th>\n",
       "    </tr>\n",
       "  </thead>\n",
       "  <tbody>\n",
       "  </tbody>\n",
       "</table>\n",
       "</div>"
      ],
      "text/plain": [
       "Empty DataFrame\n",
       "Columns: [PassengerId, Survived, Pclass, Name, Sex, Age, SibSp, Parch, Ticket, Fare, Cabin, Embarked]\n",
       "Index: []"
      ]
     },
     "execution_count": 27,
     "metadata": {},
     "output_type": "execute_result"
    }
   ],
   "source": [
    "data[\"Embarked\"] = data[\"Embarked\"].fillna(1)\n",
    "data[data[\"Embarked\"].isnull()]"
   ]
  },
  {
   "cell_type": "markdown",
   "metadata": {
    "papermill": {
     "duration": 0.087216,
     "end_time": "2020-12-22T16:40:44.547143",
     "exception": false,
     "start_time": "2020-12-22T16:40:44.459927",
     "status": "completed"
    },
    "tags": []
   },
   "source": [
    "### Age Fill Value\n",
    "\n",
    "Pclass and SibSp are associated with Age."
   ]
  },
  {
   "cell_type": "code",
   "execution_count": 28,
   "metadata": {
    "execution": {
     "iopub.execute_input": "2020-12-22T16:40:44.727284Z",
     "iopub.status.busy": "2020-12-22T16:40:44.726575Z",
     "iopub.status.idle": "2020-12-22T16:40:44.757266Z",
     "shell.execute_reply": "2020-12-22T16:40:44.757882Z"
    },
    "papermill": {
     "duration": 0.122499,
     "end_time": "2020-12-22T16:40:44.758045",
     "exception": false,
     "start_time": "2020-12-22T16:40:44.635546",
     "status": "completed"
    },
    "tags": []
   },
   "outputs": [
    {
     "data": {
      "text/html": [
       "<div>\n",
       "<style scoped>\n",
       "    .dataframe tbody tr th:only-of-type {\n",
       "        vertical-align: middle;\n",
       "    }\n",
       "\n",
       "    .dataframe tbody tr th {\n",
       "        vertical-align: top;\n",
       "    }\n",
       "\n",
       "    .dataframe thead th {\n",
       "        text-align: right;\n",
       "    }\n",
       "</style>\n",
       "<table border=\"1\" class=\"dataframe\">\n",
       "  <thead>\n",
       "    <tr style=\"text-align: right;\">\n",
       "      <th></th>\n",
       "      <th>PassengerId</th>\n",
       "      <th>Survived</th>\n",
       "      <th>Pclass</th>\n",
       "      <th>Name</th>\n",
       "      <th>Sex</th>\n",
       "      <th>Age</th>\n",
       "      <th>SibSp</th>\n",
       "      <th>Parch</th>\n",
       "      <th>Ticket</th>\n",
       "      <th>Fare</th>\n",
       "      <th>Cabin</th>\n",
       "      <th>Embarked</th>\n",
       "    </tr>\n",
       "  </thead>\n",
       "  <tbody>\n",
       "    <tr>\n",
       "      <th>5</th>\n",
       "      <td>6</td>\n",
       "      <td>0.0</td>\n",
       "      <td>3</td>\n",
       "      <td>Moran, Mr. James</td>\n",
       "      <td>0</td>\n",
       "      <td>NaN</td>\n",
       "      <td>0</td>\n",
       "      <td>0</td>\n",
       "      <td>330877</td>\n",
       "      <td>8.4583</td>\n",
       "      <td>NaN</td>\n",
       "      <td>2.0</td>\n",
       "    </tr>\n",
       "    <tr>\n",
       "      <th>17</th>\n",
       "      <td>18</td>\n",
       "      <td>1.0</td>\n",
       "      <td>2</td>\n",
       "      <td>Williams, Mr. Charles Eugene</td>\n",
       "      <td>0</td>\n",
       "      <td>NaN</td>\n",
       "      <td>0</td>\n",
       "      <td>0</td>\n",
       "      <td>244373</td>\n",
       "      <td>13.0000</td>\n",
       "      <td>NaN</td>\n",
       "      <td>0.0</td>\n",
       "    </tr>\n",
       "    <tr>\n",
       "      <th>19</th>\n",
       "      <td>20</td>\n",
       "      <td>1.0</td>\n",
       "      <td>3</td>\n",
       "      <td>Masselmani, Mrs. Fatima</td>\n",
       "      <td>1</td>\n",
       "      <td>NaN</td>\n",
       "      <td>0</td>\n",
       "      <td>0</td>\n",
       "      <td>2649</td>\n",
       "      <td>7.2250</td>\n",
       "      <td>NaN</td>\n",
       "      <td>1.0</td>\n",
       "    </tr>\n",
       "    <tr>\n",
       "      <th>26</th>\n",
       "      <td>27</td>\n",
       "      <td>0.0</td>\n",
       "      <td>3</td>\n",
       "      <td>Emir, Mr. Farred Chehab</td>\n",
       "      <td>0</td>\n",
       "      <td>NaN</td>\n",
       "      <td>0</td>\n",
       "      <td>0</td>\n",
       "      <td>2631</td>\n",
       "      <td>7.2250</td>\n",
       "      <td>NaN</td>\n",
       "      <td>1.0</td>\n",
       "    </tr>\n",
       "    <tr>\n",
       "      <th>28</th>\n",
       "      <td>29</td>\n",
       "      <td>1.0</td>\n",
       "      <td>3</td>\n",
       "      <td>O'Dwyer, Miss. Ellen \"Nellie\"</td>\n",
       "      <td>1</td>\n",
       "      <td>NaN</td>\n",
       "      <td>0</td>\n",
       "      <td>0</td>\n",
       "      <td>330959</td>\n",
       "      <td>7.8792</td>\n",
       "      <td>NaN</td>\n",
       "      <td>2.0</td>\n",
       "    </tr>\n",
       "    <tr>\n",
       "      <th>...</th>\n",
       "      <td>...</td>\n",
       "      <td>...</td>\n",
       "      <td>...</td>\n",
       "      <td>...</td>\n",
       "      <td>...</td>\n",
       "      <td>...</td>\n",
       "      <td>...</td>\n",
       "      <td>...</td>\n",
       "      <td>...</td>\n",
       "      <td>...</td>\n",
       "      <td>...</td>\n",
       "      <td>...</td>\n",
       "    </tr>\n",
       "    <tr>\n",
       "      <th>1299</th>\n",
       "      <td>1300</td>\n",
       "      <td>NaN</td>\n",
       "      <td>3</td>\n",
       "      <td>Riordan, Miss. Johanna Hannah\"\"</td>\n",
       "      <td>1</td>\n",
       "      <td>NaN</td>\n",
       "      <td>0</td>\n",
       "      <td>0</td>\n",
       "      <td>334915</td>\n",
       "      <td>7.7208</td>\n",
       "      <td>NaN</td>\n",
       "      <td>2.0</td>\n",
       "    </tr>\n",
       "    <tr>\n",
       "      <th>1301</th>\n",
       "      <td>1302</td>\n",
       "      <td>NaN</td>\n",
       "      <td>3</td>\n",
       "      <td>Naughton, Miss. Hannah</td>\n",
       "      <td>1</td>\n",
       "      <td>NaN</td>\n",
       "      <td>0</td>\n",
       "      <td>0</td>\n",
       "      <td>365237</td>\n",
       "      <td>7.7500</td>\n",
       "      <td>NaN</td>\n",
       "      <td>2.0</td>\n",
       "    </tr>\n",
       "    <tr>\n",
       "      <th>1304</th>\n",
       "      <td>1305</td>\n",
       "      <td>NaN</td>\n",
       "      <td>3</td>\n",
       "      <td>Spector, Mr. Woolf</td>\n",
       "      <td>0</td>\n",
       "      <td>NaN</td>\n",
       "      <td>0</td>\n",
       "      <td>0</td>\n",
       "      <td>A.5. 3236</td>\n",
       "      <td>8.0500</td>\n",
       "      <td>NaN</td>\n",
       "      <td>0.0</td>\n",
       "    </tr>\n",
       "    <tr>\n",
       "      <th>1307</th>\n",
       "      <td>1308</td>\n",
       "      <td>NaN</td>\n",
       "      <td>3</td>\n",
       "      <td>Ware, Mr. Frederick</td>\n",
       "      <td>0</td>\n",
       "      <td>NaN</td>\n",
       "      <td>0</td>\n",
       "      <td>0</td>\n",
       "      <td>359309</td>\n",
       "      <td>8.0500</td>\n",
       "      <td>NaN</td>\n",
       "      <td>0.0</td>\n",
       "    </tr>\n",
       "    <tr>\n",
       "      <th>1308</th>\n",
       "      <td>1309</td>\n",
       "      <td>NaN</td>\n",
       "      <td>3</td>\n",
       "      <td>Peter, Master. Michael J</td>\n",
       "      <td>0</td>\n",
       "      <td>NaN</td>\n",
       "      <td>1</td>\n",
       "      <td>1</td>\n",
       "      <td>2668</td>\n",
       "      <td>22.3583</td>\n",
       "      <td>NaN</td>\n",
       "      <td>1.0</td>\n",
       "    </tr>\n",
       "  </tbody>\n",
       "</table>\n",
       "<p>263 rows × 12 columns</p>\n",
       "</div>"
      ],
      "text/plain": [
       "      PassengerId  Survived  Pclass                             Name  Sex  \\\n",
       "5               6       0.0       3                 Moran, Mr. James    0   \n",
       "17             18       1.0       2     Williams, Mr. Charles Eugene    0   \n",
       "19             20       1.0       3          Masselmani, Mrs. Fatima    1   \n",
       "26             27       0.0       3          Emir, Mr. Farred Chehab    0   \n",
       "28             29       1.0       3    O'Dwyer, Miss. Ellen \"Nellie\"    1   \n",
       "...           ...       ...     ...                              ...  ...   \n",
       "1299         1300       NaN       3  Riordan, Miss. Johanna Hannah\"\"    1   \n",
       "1301         1302       NaN       3           Naughton, Miss. Hannah    1   \n",
       "1304         1305       NaN       3               Spector, Mr. Woolf    0   \n",
       "1307         1308       NaN       3              Ware, Mr. Frederick    0   \n",
       "1308         1309       NaN       3         Peter, Master. Michael J    0   \n",
       "\n",
       "      Age  SibSp  Parch     Ticket     Fare Cabin  Embarked  \n",
       "5     NaN      0      0     330877   8.4583   NaN       2.0  \n",
       "17    NaN      0      0     244373  13.0000   NaN       0.0  \n",
       "19    NaN      0      0       2649   7.2250   NaN       1.0  \n",
       "26    NaN      0      0       2631   7.2250   NaN       1.0  \n",
       "28    NaN      0      0     330959   7.8792   NaN       2.0  \n",
       "...   ...    ...    ...        ...      ...   ...       ...  \n",
       "1299  NaN      0      0     334915   7.7208   NaN       2.0  \n",
       "1301  NaN      0      0     365237   7.7500   NaN       2.0  \n",
       "1304  NaN      0      0  A.5. 3236   8.0500   NaN       0.0  \n",
       "1307  NaN      0      0     359309   8.0500   NaN       0.0  \n",
       "1308  NaN      1      1       2668  22.3583   NaN       1.0  \n",
       "\n",
       "[263 rows x 12 columns]"
      ]
     },
     "execution_count": 28,
     "metadata": {},
     "output_type": "execute_result"
    }
   ],
   "source": [
    "data[data[\"Age\"].isnull()]"
   ]
  },
  {
   "cell_type": "code",
   "execution_count": 29,
   "metadata": {
    "execution": {
     "iopub.execute_input": "2020-12-22T16:40:44.968669Z",
     "iopub.status.busy": "2020-12-22T16:40:44.967910Z",
     "iopub.status.idle": "2020-12-22T16:40:45.185252Z",
     "shell.execute_reply": "2020-12-22T16:40:45.185837Z"
    },
    "papermill": {
     "duration": 0.32722,
     "end_time": "2020-12-22T16:40:45.186020",
     "exception": false,
     "start_time": "2020-12-22T16:40:44.858800",
     "status": "completed"
    },
    "tags": []
   },
   "outputs": [],
   "source": [
    "data_age_nan_index = data[data[\"Age\"].isnull()].index\n",
    "for i in data_age_nan_index:\n",
    "    mean_age = data[\"Age\"][(data[\"Pclass\"]==data.iloc[i][\"Pclass\"])].median()\n",
    "    data[\"Age\"].iloc[i] = mean_age"
   ]
  },
  {
   "cell_type": "markdown",
   "metadata": {
    "papermill": {
     "duration": 0.090893,
     "end_time": "2020-12-22T16:40:45.366292",
     "exception": false,
     "start_time": "2020-12-22T16:40:45.275399",
     "status": "completed"
    },
    "tags": []
   },
   "source": [
    "<a id='8'></a><br>\n",
    "# Chapter-4 Data Engineering\n",
    "\n",
    "* New Feature\n",
    "* Edit Feature\n",
    "* Drop Feature\n",
    "* Normalization"
   ]
  },
  {
   "cell_type": "markdown",
   "metadata": {
    "papermill": {
     "duration": 0.091872,
     "end_time": "2020-12-22T16:40:45.546909",
     "exception": false,
     "start_time": "2020-12-22T16:40:45.455037",
     "status": "completed"
    },
    "tags": []
   },
   "source": [
    "<a id='12'></a><br>\n",
    "## 1-New - Feature\n",
    "* Alone and Family\n",
    "* Title (Name)\n",
    "* Age Limit\n",
    "* Fare Limit"
   ]
  },
  {
   "cell_type": "markdown",
   "metadata": {
    "papermill": {
     "duration": 0.089111,
     "end_time": "2020-12-22T16:40:45.737599",
     "exception": false,
     "start_time": "2020-12-22T16:40:45.648488",
     "status": "completed"
    },
    "tags": []
   },
   "source": [
    "### Alone and Family \n",
    "* SibSp + Parch = family"
   ]
  },
  {
   "cell_type": "code",
   "execution_count": 30,
   "metadata": {
    "execution": {
     "iopub.execute_input": "2020-12-22T16:40:45.919143Z",
     "iopub.status.busy": "2020-12-22T16:40:45.918367Z",
     "iopub.status.idle": "2020-12-22T16:40:46.416197Z",
     "shell.execute_reply": "2020-12-22T16:40:46.416775Z"
    },
    "papermill": {
     "duration": 0.590967,
     "end_time": "2020-12-22T16:40:46.416945",
     "exception": false,
     "start_time": "2020-12-22T16:40:45.825978",
     "status": "completed"
    },
    "tags": []
   },
   "outputs": [
    {
     "data": {
      "image/png": "[encoded data removed]",
      "text/plain": [
       "<Figure size 216x216 with 1 Axes>"
      ]
     },
     "metadata": {
      "needs_background": "light"
     },
     "output_type": "display_data"
    }
   ],
   "source": [
    "data[\"Family\"] = data[\"SibSp\"] + data[\"Parch\"]\n",
    "sns.factorplot(x=\"Family\", y =\"Survived\", data=data, kind=\"bar\", size=3)\n",
    "plt.show()"
   ]
  },
  {
   "cell_type": "code",
   "execution_count": 31,
   "metadata": {
    "execution": {
     "iopub.execute_input": "2020-12-22T16:40:46.609934Z",
     "iopub.status.busy": "2020-12-22T16:40:46.609126Z",
     "iopub.status.idle": "2020-12-22T16:40:46.630020Z",
     "shell.execute_reply": "2020-12-22T16:40:46.629279Z"
    },
    "papermill": {
     "duration": 0.123894,
     "end_time": "2020-12-22T16:40:46.630146",
     "exception": false,
     "start_time": "2020-12-22T16:40:46.506252",
     "status": "completed"
    },
    "tags": []
   },
   "outputs": [
    {
     "data": {
      "text/html": [
       "<div>\n",
       "<style scoped>\n",
       "    .dataframe tbody tr th:only-of-type {\n",
       "        vertical-align: middle;\n",
       "    }\n",
       "\n",
       "    .dataframe tbody tr th {\n",
       "        vertical-align: top;\n",
       "    }\n",
       "\n",
       "    .dataframe thead th {\n",
       "        text-align: right;\n",
       "    }\n",
       "</style>\n",
       "<table border=\"1\" class=\"dataframe\">\n",
       "  <thead>\n",
       "    <tr style=\"text-align: right;\">\n",
       "      <th></th>\n",
       "      <th>PassengerId</th>\n",
       "      <th>Survived</th>\n",
       "      <th>Pclass</th>\n",
       "      <th>Name</th>\n",
       "      <th>Sex</th>\n",
       "      <th>Age</th>\n",
       "      <th>SibSp</th>\n",
       "      <th>Parch</th>\n",
       "      <th>Ticket</th>\n",
       "      <th>Fare</th>\n",
       "      <th>Cabin</th>\n",
       "      <th>Embarked</th>\n",
       "      <th>Family</th>\n",
       "      <th>Alone</th>\n",
       "    </tr>\n",
       "  </thead>\n",
       "  <tbody>\n",
       "    <tr>\n",
       "      <th>0</th>\n",
       "      <td>1</td>\n",
       "      <td>0.0</td>\n",
       "      <td>3</td>\n",
       "      <td>Braund, Mr. Owen Harris</td>\n",
       "      <td>0</td>\n",
       "      <td>22.0</td>\n",
       "      <td>1</td>\n",
       "      <td>0</td>\n",
       "      <td>A/5 21171</td>\n",
       "      <td>7.2500</td>\n",
       "      <td>NaN</td>\n",
       "      <td>0.0</td>\n",
       "      <td>1</td>\n",
       "      <td>0</td>\n",
       "    </tr>\n",
       "    <tr>\n",
       "      <th>1</th>\n",
       "      <td>2</td>\n",
       "      <td>1.0</td>\n",
       "      <td>1</td>\n",
       "      <td>Cumings, Mrs. John Bradley (Florence Briggs Th...</td>\n",
       "      <td>1</td>\n",
       "      <td>38.0</td>\n",
       "      <td>1</td>\n",
       "      <td>0</td>\n",
       "      <td>PC 17599</td>\n",
       "      <td>71.2833</td>\n",
       "      <td>C85</td>\n",
       "      <td>1.0</td>\n",
       "      <td>1</td>\n",
       "      <td>0</td>\n",
       "    </tr>\n",
       "    <tr>\n",
       "      <th>2</th>\n",
       "      <td>3</td>\n",
       "      <td>1.0</td>\n",
       "      <td>3</td>\n",
       "      <td>Heikkinen, Miss. Laina</td>\n",
       "      <td>1</td>\n",
       "      <td>26.0</td>\n",
       "      <td>0</td>\n",
       "      <td>0</td>\n",
       "      <td>STON/O2. 3101282</td>\n",
       "      <td>7.9250</td>\n",
       "      <td>NaN</td>\n",
       "      <td>0.0</td>\n",
       "      <td>0</td>\n",
       "      <td>1</td>\n",
       "    </tr>\n",
       "    <tr>\n",
       "      <th>3</th>\n",
       "      <td>4</td>\n",
       "      <td>1.0</td>\n",
       "      <td>1</td>\n",
       "      <td>Futrelle, Mrs. Jacques Heath (Lily May Peel)</td>\n",
       "      <td>1</td>\n",
       "      <td>35.0</td>\n",
       "      <td>1</td>\n",
       "      <td>0</td>\n",
       "      <td>113803</td>\n",
       "      <td>53.1000</td>\n",
       "      <td>C123</td>\n",
       "      <td>0.0</td>\n",
       "      <td>1</td>\n",
       "      <td>0</td>\n",
       "    </tr>\n",
       "    <tr>\n",
       "      <th>4</th>\n",
       "      <td>5</td>\n",
       "      <td>0.0</td>\n",
       "      <td>3</td>\n",
       "      <td>Allen, Mr. William Henry</td>\n",
       "      <td>0</td>\n",
       "      <td>35.0</td>\n",
       "      <td>0</td>\n",
       "      <td>0</td>\n",
       "      <td>373450</td>\n",
       "      <td>8.0500</td>\n",
       "      <td>NaN</td>\n",
       "      <td>0.0</td>\n",
       "      <td>0</td>\n",
       "      <td>1</td>\n",
       "    </tr>\n",
       "  </tbody>\n",
       "</table>\n",
       "</div>"
      ],
      "text/plain": [
       "   PassengerId  Survived  Pclass  \\\n",
       "0            1       0.0       3   \n",
       "1            2       1.0       1   \n",
       "2            3       1.0       3   \n",
       "3            4       1.0       1   \n",
       "4            5       0.0       3   \n",
       "\n",
       "                                                Name  Sex   Age  SibSp  Parch  \\\n",
       "0                            Braund, Mr. Owen Harris    0  22.0      1      0   \n",
       "1  Cumings, Mrs. John Bradley (Florence Briggs Th...    1  38.0      1      0   \n",
       "2                             Heikkinen, Miss. Laina    1  26.0      0      0   \n",
       "3       Futrelle, Mrs. Jacques Heath (Lily May Peel)    1  35.0      1      0   \n",
       "4                           Allen, Mr. William Henry    0  35.0      0      0   \n",
       "\n",
       "             Ticket     Fare Cabin  Embarked  Family  Alone  \n",
       "0         A/5 21171   7.2500   NaN       0.0       1      0  \n",
       "1          PC 17599  71.2833   C85       1.0       1      0  \n",
       "2  STON/O2. 3101282   7.9250   NaN       0.0       0      1  \n",
       "3            113803  53.1000  C123       0.0       1      0  \n",
       "4            373450   8.0500   NaN       0.0       0      1  "
      ]
     },
     "execution_count": 31,
     "metadata": {},
     "output_type": "execute_result"
    }
   ],
   "source": [
    "data[\"Alone\"] = [1 if i == 0 else 0 for i in data[\"Family\"]]\n",
    "data[\"Family\"].replace([0,1,2,3,4,5,6,7,10], [0,1,1,1,0,2,0,2,2], inplace=True)\n",
    "data.head()"
   ]
  },
  {
   "cell_type": "markdown",
   "metadata": {
    "papermill": {
     "duration": 0.093311,
     "end_time": "2020-12-22T16:40:46.814731",
     "exception": false,
     "start_time": "2020-12-22T16:40:46.721420",
     "status": "completed"
    },
    "tags": []
   },
   "source": [
    "### Name - Title"
   ]
  },
  {
   "cell_type": "code",
   "execution_count": 32,
   "metadata": {
    "execution": {
     "iopub.execute_input": "2020-12-22T16:40:47.013271Z",
     "iopub.status.busy": "2020-12-22T16:40:47.011352Z",
     "iopub.status.idle": "2020-12-22T16:40:47.022091Z",
     "shell.execute_reply": "2020-12-22T16:40:47.021256Z"
    },
    "papermill": {
     "duration": 0.1161,
     "end_time": "2020-12-22T16:40:47.022268",
     "exception": false,
     "start_time": "2020-12-22T16:40:46.906168",
     "status": "completed"
    },
    "tags": []
   },
   "outputs": [],
   "source": [
    "data['Title']=data.Name.str.extract('([A-Za-z]+)\\.')"
   ]
  },
  {
   "cell_type": "code",
   "execution_count": 33,
   "metadata": {
    "execution": {
     "iopub.execute_input": "2020-12-22T16:40:47.208479Z",
     "iopub.status.busy": "2020-12-22T16:40:47.207799Z",
     "iopub.status.idle": "2020-12-22T16:40:47.425312Z",
     "shell.execute_reply": "2020-12-22T16:40:47.425922Z"
    },
    "papermill": {
     "duration": 0.313133,
     "end_time": "2020-12-22T16:40:47.426089",
     "exception": false,
     "start_time": "2020-12-22T16:40:47.112956",
     "status": "completed"
    },
    "tags": []
   },
   "outputs": [
    {
     "data": {
      "image/png": "[encoded data removed]",
      "text/plain": [
       "<Figure size 432x288 with 1 Axes>"
      ]
     },
     "metadata": {
      "needs_background": "light"
     },
     "output_type": "display_data"
    }
   ],
   "source": [
    "sns.countplot(data[\"Title\"])\n",
    "plt.xticks(rotation = 90)\n",
    "plt.show()"
   ]
  },
  {
   "cell_type": "code",
   "execution_count": 34,
   "metadata": {
    "execution": {
     "iopub.execute_input": "2020-12-22T16:40:47.622917Z",
     "iopub.status.busy": "2020-12-22T16:40:47.622005Z",
     "iopub.status.idle": "2020-12-22T16:40:47.627735Z",
     "shell.execute_reply": "2020-12-22T16:40:47.628299Z"
    },
    "papermill": {
     "duration": 0.109052,
     "end_time": "2020-12-22T16:40:47.628480",
     "exception": false,
     "start_time": "2020-12-22T16:40:47.519428",
     "status": "completed"
    },
    "tags": []
   },
   "outputs": [],
   "source": [
    "data['Title'].replace(['Mme','Ms','Mlle','Lady','Countess','Dona','Dr','Major','Sir','Capt','Don','Rev','Col', 'Jonkheer'],['Miss','Miss','Miss','Mrs','Mrs','Mrs','Mr','Mr','Mr','Mr','Mr','Other','Other','Other'], inplace=True)"
   ]
  },
  {
   "cell_type": "code",
   "execution_count": 35,
   "metadata": {
    "execution": {
     "iopub.execute_input": "2020-12-22T16:40:47.819052Z",
     "iopub.status.busy": "2020-12-22T16:40:47.818266Z",
     "iopub.status.idle": "2020-12-22T16:40:47.958137Z",
     "shell.execute_reply": "2020-12-22T16:40:47.958766Z"
    },
    "papermill": {
     "duration": 0.236493,
     "end_time": "2020-12-22T16:40:47.958936",
     "exception": false,
     "start_time": "2020-12-22T16:40:47.722443",
     "status": "completed"
    },
    "tags": []
   },
   "outputs": [
    {
     "data": {
      "image/png": "[encoded data removed]",
      "text/plain": [
       "<Figure size 432x288 with 1 Axes>"
      ]
     },
     "metadata": {
      "needs_background": "light"
     },
     "output_type": "display_data"
    }
   ],
   "source": [
    "sns.countplot(data[\"Title\"])\n",
    "plt.show()"
   ]
  },
  {
   "cell_type": "code",
   "execution_count": 36,
   "metadata": {
    "execution": {
     "iopub.execute_input": "2020-12-22T16:40:48.149597Z",
     "iopub.status.busy": "2020-12-22T16:40:48.148849Z",
     "iopub.status.idle": "2020-12-22T16:40:48.478324Z",
     "shell.execute_reply": "2020-12-22T16:40:48.478859Z"
    },
    "papermill": {
     "duration": 0.426611,
     "end_time": "2020-12-22T16:40:48.479033",
     "exception": false,
     "start_time": "2020-12-22T16:40:48.052422",
     "status": "completed"
    },
    "tags": []
   },
   "outputs": [
    {
     "data": {
      "image/png": "[encoded data removed]",
      "text/plain": [
       "<Figure size 216x216 with 1 Axes>"
      ]
     },
     "metadata": {
      "needs_background": "light"
     },
     "output_type": "display_data"
    }
   ],
   "source": [
    "sns.factorplot(x=\"Title\", y =\"Survived\", data=data, kind=\"bar\", size=3)\n",
    "plt.show()"
   ]
  },
  {
   "cell_type": "code",
   "execution_count": 37,
   "metadata": {
    "execution": {
     "iopub.execute_input": "2020-12-22T16:40:48.674488Z",
     "iopub.status.busy": "2020-12-22T16:40:48.673790Z",
     "iopub.status.idle": "2020-12-22T16:40:48.681865Z",
     "shell.execute_reply": "2020-12-22T16:40:48.682435Z"
    },
    "papermill": {
     "duration": 0.107765,
     "end_time": "2020-12-22T16:40:48.682662",
     "exception": false,
     "start_time": "2020-12-22T16:40:48.574897",
     "status": "completed"
    },
    "tags": []
   },
   "outputs": [],
   "source": [
    "data[\"Title\"].replace([\"Mr\",\"Mrs\",\"Miss\",\"Master\",\"Other\"], [1,2,2,3,1], inplace=True)\n"
   ]
  },
  {
   "cell_type": "markdown",
   "metadata": {
    "papermill": {
     "duration": 0.097046,
     "end_time": "2020-12-22T16:40:48.874218",
     "exception": false,
     "start_time": "2020-12-22T16:40:48.777172",
     "status": "completed"
    },
    "tags": []
   },
   "source": [
    "**### Age Limit"
   ]
  },
  {
   "cell_type": "code",
   "execution_count": 38,
   "metadata": {
    "execution": {
     "iopub.execute_input": "2020-12-22T16:40:49.070133Z",
     "iopub.status.busy": "2020-12-22T16:40:49.069078Z",
     "iopub.status.idle": "2020-12-22T16:40:49.383529Z",
     "shell.execute_reply": "2020-12-22T16:40:49.382472Z"
    },
    "papermill": {
     "duration": 0.413509,
     "end_time": "2020-12-22T16:40:49.383692",
     "exception": false,
     "start_time": "2020-12-22T16:40:48.970183",
     "status": "completed"
    },
    "tags": []
   },
   "outputs": [
    {
     "data": {
      "text/html": [
       "<style  type=\"text/css\" >\n",
       "#T_728d835e_4474_11eb_9d51_0242ac130202row0_col0{\n",
       "            background-color:  #008066;\n",
       "            color:  #f1f1f1;\n",
       "        }#T_728d835e_4474_11eb_9d51_0242ac130202row1_col0{\n",
       "            background-color:  #76bb66;\n",
       "            color:  #000000;\n",
       "        }#T_728d835e_4474_11eb_9d51_0242ac130202row2_col0{\n",
       "            background-color:  #4ca666;\n",
       "            color:  #000000;\n",
       "        }#T_728d835e_4474_11eb_9d51_0242ac130202row3_col0{\n",
       "            background-color:  #40a066;\n",
       "            color:  #000000;\n",
       "        }#T_728d835e_4474_11eb_9d51_0242ac130202row4_col0{\n",
       "            background-color:  #ffff66;\n",
       "            color:  #000000;\n",
       "        }</style><table id=\"T_728d835e_4474_11eb_9d51_0242ac130202\" ><thead>    <tr>        <th class=\"blank level0\" ></th>        <th class=\"col_heading level0 col0\" >Survived</th>    </tr>    <tr>        <th class=\"index_name level0\" >Age_Limit</th>        <th class=\"blank\" ></th>    </tr></thead><tbody>\n",
       "                <tr>\n",
       "                        <th id=\"T_728d835e_4474_11eb_9d51_0242ac130202level0_row0\" class=\"row_heading level0 row0\" >(0.0902, 16.136]</th>\n",
       "                        <td id=\"T_728d835e_4474_11eb_9d51_0242ac130202row0_col0\" class=\"data row0 col0\" >0.550000</td>\n",
       "            </tr>\n",
       "            <tr>\n",
       "                        <th id=\"T_728d835e_4474_11eb_9d51_0242ac130202level0_row1\" class=\"row_heading level0 row1\" >(16.136, 32.102]</th>\n",
       "                        <td id=\"T_728d835e_4474_11eb_9d51_0242ac130202row1_col0\" class=\"data row1 col0\" >0.336714</td>\n",
       "            </tr>\n",
       "            <tr>\n",
       "                        <th id=\"T_728d835e_4474_11eb_9d51_0242ac130202level0_row2\" class=\"row_heading level0 row2\" >(32.102, 48.068]</th>\n",
       "                        <td id=\"T_728d835e_4474_11eb_9d51_0242ac130202row2_col0\" class=\"data row2 col0\" >0.412844</td>\n",
       "            </tr>\n",
       "            <tr>\n",
       "                        <th id=\"T_728d835e_4474_11eb_9d51_0242ac130202level0_row3\" class=\"row_heading level0 row3\" >(48.068, 64.034]</th>\n",
       "                        <td id=\"T_728d835e_4474_11eb_9d51_0242ac130202row3_col0\" class=\"data row3 col0\" >0.434783</td>\n",
       "            </tr>\n",
       "            <tr>\n",
       "                        <th id=\"T_728d835e_4474_11eb_9d51_0242ac130202level0_row4\" class=\"row_heading level0 row4\" >(64.034, 80.0]</th>\n",
       "                        <td id=\"T_728d835e_4474_11eb_9d51_0242ac130202row4_col0\" class=\"data row4 col0\" >0.090909</td>\n",
       "            </tr>\n",
       "    </tbody></table>"
      ],
      "text/plain": [
       "<pandas.io.formats.style.Styler at 0x7fee60104090>"
      ]
     },
     "execution_count": 38,
     "metadata": {},
     "output_type": "execute_result"
    }
   ],
   "source": [
    "data['Age_Limit']=pd.cut(data['Age'], 5)\n",
    "data.groupby(['Age_Limit'])['Survived'].mean().to_frame().style.background_gradient(cmap='summer_r')"
   ]
  },
  {
   "cell_type": "code",
   "execution_count": 39,
   "metadata": {
    "execution": {
     "iopub.execute_input": "2020-12-22T16:40:49.589529Z",
     "iopub.status.busy": "2020-12-22T16:40:49.585634Z",
     "iopub.status.idle": "2020-12-22T16:40:49.593079Z",
     "shell.execute_reply": "2020-12-22T16:40:49.592352Z"
    },
    "papermill": {
     "duration": 0.114542,
     "end_time": "2020-12-22T16:40:49.593203",
     "exception": false,
     "start_time": "2020-12-22T16:40:49.478661",
     "status": "completed"
    },
    "tags": []
   },
   "outputs": [],
   "source": [
    "data['Age_Limit'] = LabelEncoder().fit_transform(data['Age_Limit'])\n"
   ]
  },
  {
   "cell_type": "markdown",
   "metadata": {
    "papermill": {
     "duration": 0.095196,
     "end_time": "2020-12-22T16:40:49.783361",
     "exception": false,
     "start_time": "2020-12-22T16:40:49.688165",
     "status": "completed"
    },
    "tags": []
   },
   "source": [
    "> ### Fare Limit"
   ]
  },
  {
   "cell_type": "code",
   "execution_count": 40,
   "metadata": {
    "execution": {
     "iopub.execute_input": "2020-12-22T16:40:50.001205Z",
     "iopub.status.busy": "2020-12-22T16:40:49.998848Z",
     "iopub.status.idle": "2020-12-22T16:40:50.007211Z",
     "shell.execute_reply": "2020-12-22T16:40:50.006223Z"
    },
    "papermill": {
     "duration": 0.128044,
     "end_time": "2020-12-22T16:40:50.007466",
     "exception": false,
     "start_time": "2020-12-22T16:40:49.879422",
     "status": "completed"
    },
    "tags": []
   },
   "outputs": [
    {
     "data": {
      "text/html": [
       "<style  type=\"text/css\" >\n",
       "#T_72ece60a_4474_11eb_9d51_0242ac130202row0_col0{\n",
       "            background-color:  #ffff66;\n",
       "            color:  #000000;\n",
       "        }#T_72ece60a_4474_11eb_9d51_0242ac130202row1_col0{\n",
       "            background-color:  #bcde66;\n",
       "            color:  #000000;\n",
       "        }#T_72ece60a_4474_11eb_9d51_0242ac130202row2_col0{\n",
       "            background-color:  #65b266;\n",
       "            color:  #000000;\n",
       "        }#T_72ece60a_4474_11eb_9d51_0242ac130202row3_col0{\n",
       "            background-color:  #008066;\n",
       "            color:  #f1f1f1;\n",
       "        }</style><table id=\"T_72ece60a_4474_11eb_9d51_0242ac130202\" ><thead>    <tr>        <th class=\"blank level0\" ></th>        <th class=\"col_heading level0 col0\" >Survived</th>    </tr>    <tr>        <th class=\"index_name level0\" >Fare_Limit</th>        <th class=\"blank\" ></th>    </tr></thead><tbody>\n",
       "                <tr>\n",
       "                        <th id=\"T_72ece60a_4474_11eb_9d51_0242ac130202level0_row0\" class=\"row_heading level0 row0\" >(-0.001, 7.896]</th>\n",
       "                        <td id=\"T_72ece60a_4474_11eb_9d51_0242ac130202row0_col0\" class=\"data row0 col0\" >0.197309</td>\n",
       "            </tr>\n",
       "            <tr>\n",
       "                        <th id=\"T_72ece60a_4474_11eb_9d51_0242ac130202level0_row1\" class=\"row_heading level0 row1\" >(7.896, 14.454]</th>\n",
       "                        <td id=\"T_72ece60a_4474_11eb_9d51_0242ac130202row1_col0\" class=\"data row1 col0\" >0.303571</td>\n",
       "            </tr>\n",
       "            <tr>\n",
       "                        <th id=\"T_72ece60a_4474_11eb_9d51_0242ac130202level0_row2\" class=\"row_heading level0 row2\" >(14.454, 31.275]</th>\n",
       "                        <td id=\"T_72ece60a_4474_11eb_9d51_0242ac130202row2_col0\" class=\"data row2 col0\" >0.441048</td>\n",
       "            </tr>\n",
       "            <tr>\n",
       "                        <th id=\"T_72ece60a_4474_11eb_9d51_0242ac130202level0_row3\" class=\"row_heading level0 row3\" >(31.275, 512.329]</th>\n",
       "                        <td id=\"T_72ece60a_4474_11eb_9d51_0242ac130202row3_col0\" class=\"data row3 col0\" >0.600000</td>\n",
       "            </tr>\n",
       "    </tbody></table>"
      ],
      "text/plain": [
       "<pandas.io.formats.style.Styler at 0x7fee601ff250>"
      ]
     },
     "execution_count": 40,
     "metadata": {},
     "output_type": "execute_result"
    }
   ],
   "source": [
    "data['Fare_Limit']=pd.qcut(data['Fare'],4)\n",
    "data.groupby(['Fare_Limit'])['Survived'].mean().to_frame().style.background_gradient(cmap='summer_r')"
   ]
  },
  {
   "cell_type": "code",
   "execution_count": 41,
   "metadata": {
    "execution": {
     "iopub.execute_input": "2020-12-22T16:40:50.203961Z",
     "iopub.status.busy": "2020-12-22T16:40:50.202890Z",
     "iopub.status.idle": "2020-12-22T16:40:50.216768Z",
     "shell.execute_reply": "2020-12-22T16:40:50.217350Z"
    },
    "papermill": {
     "duration": 0.114547,
     "end_time": "2020-12-22T16:40:50.217503",
     "exception": false,
     "start_time": "2020-12-22T16:40:50.102956",
     "status": "completed"
    },
    "tags": []
   },
   "outputs": [],
   "source": [
    "data['Fare_Limit'] = LabelEncoder().fit_transform(data['Fare_Limit'])\n"
   ]
  },
  {
   "cell_type": "code",
   "execution_count": 42,
   "metadata": {
    "execution": {
     "iopub.execute_input": "2020-12-22T16:40:50.415339Z",
     "iopub.status.busy": "2020-12-22T16:40:50.414670Z",
     "iopub.status.idle": "2020-12-22T16:40:50.731351Z",
     "shell.execute_reply": "2020-12-22T16:40:50.731934Z"
    },
    "papermill": {
     "duration": 0.418438,
     "end_time": "2020-12-22T16:40:50.732091",
     "exception": false,
     "start_time": "2020-12-22T16:40:50.313653",
     "status": "completed"
    },
    "tags": []
   },
   "outputs": [
    {
     "data": {
      "image/png": "[encoded data removed]",
      "text/plain": [
       "<Figure size 216x216 with 1 Axes>"
      ]
     },
     "metadata": {
      "needs_background": "light"
     },
     "output_type": "display_data"
    }
   ],
   "source": [
    "sns.factorplot(x=\"Fare_Limit\", y =\"Survived\", data=data, kind=\"bar\", size=3)\n",
    "plt.show()"
   ]
  },
  {
   "cell_type": "markdown",
   "metadata": {
    "papermill": {
     "duration": 0.098436,
     "end_time": "2020-12-22T16:40:50.931264",
     "exception": false,
     "start_time": "2020-12-22T16:40:50.832828",
     "status": "completed"
    },
    "tags": []
   },
   "source": [
    "### Correlation Matrix"
   ]
  },
  {
   "cell_type": "code",
   "execution_count": 43,
   "metadata": {
    "execution": {
     "iopub.execute_input": "2020-12-22T16:40:51.130424Z",
     "iopub.status.busy": "2020-12-22T16:40:51.129696Z",
     "iopub.status.idle": "2020-12-22T16:40:51.630756Z",
     "shell.execute_reply": "2020-12-22T16:40:51.631248Z"
    },
    "papermill": {
     "duration": 0.602636,
     "end_time": "2020-12-22T16:40:51.631403",
     "exception": false,
     "start_time": "2020-12-22T16:40:51.028767",
     "status": "completed"
    },
    "tags": []
   },
   "outputs": [
    {
     "data": {
      "image/png": "[encoded data removed]",
      "text/plain": [
       "<Figure size 432x288 with 2 Axes>"
      ]
     },
     "metadata": {
      "needs_background": "light"
     },
     "output_type": "display_data"
    }
   ],
   "source": [
    "sns.heatmap(data[[\"Cabin\",\"Pclass\",\"Embarked\",\"Sex\",\"Age\",\"Age_Limit\",\"Fare_Limit\", \"Title\",\"Family\", \"Survived\"]].corr(), annot = True)\n",
    "plt.show()"
   ]
  },
  {
   "cell_type": "markdown",
   "metadata": {
    "papermill": {
     "duration": 0.102111,
     "end_time": "2020-12-22T16:40:51.831825",
     "exception": false,
     "start_time": "2020-12-22T16:40:51.729714",
     "status": "completed"
    },
    "tags": []
   },
   "source": [
    "<a id='13'></a><br>\n",
    "## 2- Drop Features\n",
    "* Ticket, Cabin, Name, PassengerId and Age are deleted according to the result of the correlation matrix."
   ]
  },
  {
   "cell_type": "code",
   "execution_count": 44,
   "metadata": {
    "execution": {
     "iopub.execute_input": "2020-12-22T16:40:52.048181Z",
     "iopub.status.busy": "2020-12-22T16:40:52.037015Z",
     "iopub.status.idle": "2020-12-22T16:40:52.051846Z",
     "shell.execute_reply": "2020-12-22T16:40:52.052335Z"
    },
    "papermill": {
     "duration": 0.120861,
     "end_time": "2020-12-22T16:40:52.052506",
     "exception": false,
     "start_time": "2020-12-22T16:40:51.931645",
     "status": "completed"
    },
    "tags": []
   },
   "outputs": [
    {
     "data": {
      "text/html": [
       "<div>\n",
       "<style scoped>\n",
       "    .dataframe tbody tr th:only-of-type {\n",
       "        vertical-align: middle;\n",
       "    }\n",
       "\n",
       "    .dataframe tbody tr th {\n",
       "        vertical-align: top;\n",
       "    }\n",
       "\n",
       "    .dataframe thead th {\n",
       "        text-align: right;\n",
       "    }\n",
       "</style>\n",
       "<table border=\"1\" class=\"dataframe\">\n",
       "  <thead>\n",
       "    <tr style=\"text-align: right;\">\n",
       "      <th></th>\n",
       "      <th>Survived</th>\n",
       "      <th>Pclass</th>\n",
       "      <th>Sex</th>\n",
       "      <th>Embarked</th>\n",
       "      <th>Family</th>\n",
       "      <th>Alone</th>\n",
       "      <th>Title</th>\n",
       "      <th>Age_Limit</th>\n",
       "      <th>Fare_Limit</th>\n",
       "    </tr>\n",
       "  </thead>\n",
       "  <tbody>\n",
       "    <tr>\n",
       "      <th>0</th>\n",
       "      <td>0.0</td>\n",
       "      <td>3</td>\n",
       "      <td>0</td>\n",
       "      <td>0.0</td>\n",
       "      <td>1</td>\n",
       "      <td>0</td>\n",
       "      <td>1</td>\n",
       "      <td>1</td>\n",
       "      <td>0</td>\n",
       "    </tr>\n",
       "    <tr>\n",
       "      <th>1</th>\n",
       "      <td>1.0</td>\n",
       "      <td>1</td>\n",
       "      <td>1</td>\n",
       "      <td>1.0</td>\n",
       "      <td>1</td>\n",
       "      <td>0</td>\n",
       "      <td>2</td>\n",
       "      <td>2</td>\n",
       "      <td>3</td>\n",
       "    </tr>\n",
       "    <tr>\n",
       "      <th>2</th>\n",
       "      <td>1.0</td>\n",
       "      <td>3</td>\n",
       "      <td>1</td>\n",
       "      <td>0.0</td>\n",
       "      <td>0</td>\n",
       "      <td>1</td>\n",
       "      <td>2</td>\n",
       "      <td>1</td>\n",
       "      <td>1</td>\n",
       "    </tr>\n",
       "    <tr>\n",
       "      <th>3</th>\n",
       "      <td>1.0</td>\n",
       "      <td>1</td>\n",
       "      <td>1</td>\n",
       "      <td>0.0</td>\n",
       "      <td>1</td>\n",
       "      <td>0</td>\n",
       "      <td>2</td>\n",
       "      <td>2</td>\n",
       "      <td>3</td>\n",
       "    </tr>\n",
       "    <tr>\n",
       "      <th>4</th>\n",
       "      <td>0.0</td>\n",
       "      <td>3</td>\n",
       "      <td>0</td>\n",
       "      <td>0.0</td>\n",
       "      <td>0</td>\n",
       "      <td>1</td>\n",
       "      <td>1</td>\n",
       "      <td>2</td>\n",
       "      <td>1</td>\n",
       "    </tr>\n",
       "  </tbody>\n",
       "</table>\n",
       "</div>"
      ],
      "text/plain": [
       "   Survived  Pclass  Sex  Embarked  Family  Alone  Title  Age_Limit  \\\n",
       "0       0.0       3    0       0.0       1      0      1          1   \n",
       "1       1.0       1    1       1.0       1      0      2          2   \n",
       "2       1.0       3    1       0.0       0      1      2          1   \n",
       "3       1.0       1    1       0.0       1      0      2          2   \n",
       "4       0.0       3    0       0.0       0      1      1          2   \n",
       "\n",
       "   Fare_Limit  \n",
       "0           0  \n",
       "1           3  \n",
       "2           1  \n",
       "3           3  \n",
       "4           1  "
      ]
     },
     "execution_count": 44,
     "metadata": {},
     "output_type": "execute_result"
    }
   ],
   "source": [
    "data['Age']=data['Age'].astype(int)\n",
    "\n",
    "data.drop(labels=[\"SibSp\",\"Parch\",\"Cabin\",\"Fare\",\"Age\", \"Ticket\", \"Name\", \"PassengerId\"], axis=1, inplace = True)\n",
    "data.head()"
   ]
  },
  {
   "cell_type": "markdown",
   "metadata": {
    "papermill": {
     "duration": 0.0999,
     "end_time": "2020-12-22T16:40:52.252812",
     "exception": false,
     "start_time": "2020-12-22T16:40:52.152912",
     "status": "completed"
    },
    "tags": []
   },
   "source": [
    "<a id='14'></a><br>\n",
    "## 3 - One Hot Encoding"
   ]
  },
  {
   "cell_type": "code",
   "execution_count": 45,
   "metadata": {
    "execution": {
     "iopub.execute_input": "2020-12-22T16:40:52.463678Z",
     "iopub.status.busy": "2020-12-22T16:40:52.462954Z",
     "iopub.status.idle": "2020-12-22T16:40:52.503298Z",
     "shell.execute_reply": "2020-12-22T16:40:52.502765Z"
    },
    "papermill": {
     "duration": 0.150056,
     "end_time": "2020-12-22T16:40:52.503448",
     "exception": false,
     "start_time": "2020-12-22T16:40:52.353392",
     "status": "completed"
    },
    "tags": []
   },
   "outputs": [
    {
     "data": {
      "text/html": [
       "<div>\n",
       "<style scoped>\n",
       "    .dataframe tbody tr th:only-of-type {\n",
       "        vertical-align: middle;\n",
       "    }\n",
       "\n",
       "    .dataframe tbody tr th {\n",
       "        vertical-align: top;\n",
       "    }\n",
       "\n",
       "    .dataframe thead th {\n",
       "        text-align: right;\n",
       "    }\n",
       "</style>\n",
       "<table border=\"1\" class=\"dataframe\">\n",
       "  <thead>\n",
       "    <tr style=\"text-align: right;\">\n",
       "      <th></th>\n",
       "      <th>Survived</th>\n",
       "      <th>Sex</th>\n",
       "      <th>Alone</th>\n",
       "      <th>Pclass_1</th>\n",
       "      <th>Pclass_2</th>\n",
       "      <th>Pclass_3</th>\n",
       "      <th>Embarked_0.0</th>\n",
       "      <th>Embarked_1.0</th>\n",
       "      <th>Embarked_2.0</th>\n",
       "      <th>Family_0</th>\n",
       "      <th>...</th>\n",
       "      <th>Age_Limit_2</th>\n",
       "      <th>Age_Limit_3</th>\n",
       "      <th>Age_Limit_4</th>\n",
       "      <th>Fare_Limit_0</th>\n",
       "      <th>Fare_Limit_1</th>\n",
       "      <th>Fare_Limit_2</th>\n",
       "      <th>Fare_Limit_3</th>\n",
       "      <th>Title_1</th>\n",
       "      <th>Title_2</th>\n",
       "      <th>Title_3</th>\n",
       "    </tr>\n",
       "  </thead>\n",
       "  <tbody>\n",
       "    <tr>\n",
       "      <th>0</th>\n",
       "      <td>0.0</td>\n",
       "      <td>0</td>\n",
       "      <td>0</td>\n",
       "      <td>0</td>\n",
       "      <td>0</td>\n",
       "      <td>1</td>\n",
       "      <td>1</td>\n",
       "      <td>0</td>\n",
       "      <td>0</td>\n",
       "      <td>0</td>\n",
       "      <td>...</td>\n",
       "      <td>0</td>\n",
       "      <td>0</td>\n",
       "      <td>0</td>\n",
       "      <td>1</td>\n",
       "      <td>0</td>\n",
       "      <td>0</td>\n",
       "      <td>0</td>\n",
       "      <td>1</td>\n",
       "      <td>0</td>\n",
       "      <td>0</td>\n",
       "    </tr>\n",
       "    <tr>\n",
       "      <th>1</th>\n",
       "      <td>1.0</td>\n",
       "      <td>1</td>\n",
       "      <td>0</td>\n",
       "      <td>1</td>\n",
       "      <td>0</td>\n",
       "      <td>0</td>\n",
       "      <td>0</td>\n",
       "      <td>1</td>\n",
       "      <td>0</td>\n",
       "      <td>0</td>\n",
       "      <td>...</td>\n",
       "      <td>1</td>\n",
       "      <td>0</td>\n",
       "      <td>0</td>\n",
       "      <td>0</td>\n",
       "      <td>0</td>\n",
       "      <td>0</td>\n",
       "      <td>1</td>\n",
       "      <td>0</td>\n",
       "      <td>1</td>\n",
       "      <td>0</td>\n",
       "    </tr>\n",
       "    <tr>\n",
       "      <th>2</th>\n",
       "      <td>1.0</td>\n",
       "      <td>1</td>\n",
       "      <td>1</td>\n",
       "      <td>0</td>\n",
       "      <td>0</td>\n",
       "      <td>1</td>\n",
       "      <td>1</td>\n",
       "      <td>0</td>\n",
       "      <td>0</td>\n",
       "      <td>1</td>\n",
       "      <td>...</td>\n",
       "      <td>0</td>\n",
       "      <td>0</td>\n",
       "      <td>0</td>\n",
       "      <td>0</td>\n",
       "      <td>1</td>\n",
       "      <td>0</td>\n",
       "      <td>0</td>\n",
       "      <td>0</td>\n",
       "      <td>1</td>\n",
       "      <td>0</td>\n",
       "    </tr>\n",
       "    <tr>\n",
       "      <th>3</th>\n",
       "      <td>1.0</td>\n",
       "      <td>1</td>\n",
       "      <td>0</td>\n",
       "      <td>1</td>\n",
       "      <td>0</td>\n",
       "      <td>0</td>\n",
       "      <td>1</td>\n",
       "      <td>0</td>\n",
       "      <td>0</td>\n",
       "      <td>0</td>\n",
       "      <td>...</td>\n",
       "      <td>1</td>\n",
       "      <td>0</td>\n",
       "      <td>0</td>\n",
       "      <td>0</td>\n",
       "      <td>0</td>\n",
       "      <td>0</td>\n",
       "      <td>1</td>\n",
       "      <td>0</td>\n",
       "      <td>1</td>\n",
       "      <td>0</td>\n",
       "    </tr>\n",
       "    <tr>\n",
       "      <th>4</th>\n",
       "      <td>0.0</td>\n",
       "      <td>0</td>\n",
       "      <td>1</td>\n",
       "      <td>0</td>\n",
       "      <td>0</td>\n",
       "      <td>1</td>\n",
       "      <td>1</td>\n",
       "      <td>0</td>\n",
       "      <td>0</td>\n",
       "      <td>1</td>\n",
       "      <td>...</td>\n",
       "      <td>1</td>\n",
       "      <td>0</td>\n",
       "      <td>0</td>\n",
       "      <td>0</td>\n",
       "      <td>1</td>\n",
       "      <td>0</td>\n",
       "      <td>0</td>\n",
       "      <td>1</td>\n",
       "      <td>0</td>\n",
       "      <td>0</td>\n",
       "    </tr>\n",
       "  </tbody>\n",
       "</table>\n",
       "<p>5 rows × 24 columns</p>\n",
       "</div>"
      ],
      "text/plain": [
       "   Survived  Sex  Alone  Pclass_1  Pclass_2  Pclass_3  Embarked_0.0  \\\n",
       "0       0.0    0      0         0         0         1             1   \n",
       "1       1.0    1      0         1         0         0             0   \n",
       "2       1.0    1      1         0         0         1             1   \n",
       "3       1.0    1      0         1         0         0             1   \n",
       "4       0.0    0      1         0         0         1             1   \n",
       "\n",
       "   Embarked_1.0  Embarked_2.0  Family_0  ...  Age_Limit_2  Age_Limit_3  \\\n",
       "0             0             0         0  ...            0            0   \n",
       "1             1             0         0  ...            1            0   \n",
       "2             0             0         1  ...            0            0   \n",
       "3             0             0         0  ...            1            0   \n",
       "4             0             0         1  ...            1            0   \n",
       "\n",
       "   Age_Limit_4  Fare_Limit_0  Fare_Limit_1  Fare_Limit_2  Fare_Limit_3  \\\n",
       "0            0             1             0             0             0   \n",
       "1            0             0             0             0             1   \n",
       "2            0             0             1             0             0   \n",
       "3            0             0             0             0             1   \n",
       "4            0             0             1             0             0   \n",
       "\n",
       "   Title_1  Title_2  Title_3  \n",
       "0        1        0        0  \n",
       "1        0        1        0  \n",
       "2        0        1        0  \n",
       "3        0        1        0  \n",
       "4        1        0        0  \n",
       "\n",
       "[5 rows x 24 columns]"
      ]
     },
     "execution_count": 45,
     "metadata": {},
     "output_type": "execute_result"
    }
   ],
   "source": [
    "data = pd.get_dummies(data,columns=[\"Pclass\"])\n",
    "data = pd.get_dummies(data,columns=[\"Embarked\"])\n",
    "data = pd.get_dummies(data,columns=[\"Family\"])\n",
    "data = pd.get_dummies(data,columns=[\"Age_Limit\"])\n",
    "data = pd.get_dummies(data,columns=[\"Fare_Limit\"])\n",
    "data = pd.get_dummies(data,columns=[\"Title\"])\n",
    "\n",
    "data.head()"
   ]
  },
  {
   "cell_type": "markdown",
   "metadata": {
    "papermill": {
     "duration": 0.100422,
     "end_time": "2020-12-22T16:40:52.704948",
     "exception": false,
     "start_time": "2020-12-22T16:40:52.604526",
     "status": "completed"
    },
    "tags": []
   },
   "source": [
    "<a id='16'></a><br>\n",
    "# Chapter:5 Modeling"
   ]
  },
  {
   "cell_type": "code",
   "execution_count": 46,
   "metadata": {
    "execution": {
     "iopub.execute_input": "2020-12-22T16:40:52.913448Z",
     "iopub.status.busy": "2020-12-22T16:40:52.912500Z",
     "iopub.status.idle": "2020-12-22T16:40:53.232704Z",
     "shell.execute_reply": "2020-12-22T16:40:53.233310Z"
    },
    "papermill": {
     "duration": 0.428785,
     "end_time": "2020-12-22T16:40:53.233467",
     "exception": false,
     "start_time": "2020-12-22T16:40:52.804682",
     "status": "completed"
    },
    "tags": []
   },
   "outputs": [],
   "source": [
    "from sklearn.model_selection import train_test_split\n",
    "\n",
    "from sklearn.linear_model import LogisticRegression\n",
    "from sklearn.ensemble import RandomForestClassifier, VotingClassifier\n",
    "from sklearn.neighbors import KNeighborsClassifier\n",
    "from sklearn.svm import SVC"
   ]
  },
  {
   "cell_type": "markdown",
   "metadata": {
    "papermill": {
     "duration": 0.100687,
     "end_time": "2020-12-22T16:40:53.433733",
     "exception": false,
     "start_time": "2020-12-22T16:40:53.333046",
     "status": "completed"
    },
    "tags": []
   },
   "source": [
    "<a id='17'></a><br>\n",
    "## 1-Train Test Split"
   ]
  },
  {
   "cell_type": "code",
   "execution_count": 47,
   "metadata": {
    "execution": {
     "iopub.execute_input": "2020-12-22T16:40:53.636937Z",
     "iopub.status.busy": "2020-12-22T16:40:53.636225Z",
     "iopub.status.idle": "2020-12-22T16:40:53.643046Z",
     "shell.execute_reply": "2020-12-22T16:40:53.642468Z"
    },
    "papermill": {
     "duration": 0.110432,
     "end_time": "2020-12-22T16:40:53.643165",
     "exception": false,
     "start_time": "2020-12-22T16:40:53.532733",
     "status": "completed"
    },
    "tags": []
   },
   "outputs": [
    {
     "name": "stdout",
     "output_type": "stream",
     "text": [
      "success\n"
     ]
    }
   ],
   "source": [
    "if len(data) == (len(train_data) + len(test_data)):\n",
    "    print(\"success\")"
   ]
  },
  {
   "cell_type": "code",
   "execution_count": 48,
   "metadata": {
    "execution": {
     "iopub.execute_input": "2020-12-22T16:40:53.847918Z",
     "iopub.status.busy": "2020-12-22T16:40:53.847107Z",
     "iopub.status.idle": "2020-12-22T16:40:53.853629Z",
     "shell.execute_reply": "2020-12-22T16:40:53.854228Z"
    },
    "papermill": {
     "duration": 0.111445,
     "end_time": "2020-12-22T16:40:53.854386",
     "exception": false,
     "start_time": "2020-12-22T16:40:53.742941",
     "status": "completed"
    },
    "tags": []
   },
   "outputs": [],
   "source": [
    "test = data[len(train_data):]\n",
    "test.drop(labels=\"Survived\", axis=1, inplace=True)"
   ]
  },
  {
   "cell_type": "code",
   "execution_count": 49,
   "metadata": {
    "execution": {
     "iopub.execute_input": "2020-12-22T16:40:54.063415Z",
     "iopub.status.busy": "2020-12-22T16:40:54.062740Z",
     "iopub.status.idle": "2020-12-22T16:40:54.071911Z",
     "shell.execute_reply": "2020-12-22T16:40:54.072430Z"
    },
    "papermill": {
     "duration": 0.115169,
     "end_time": "2020-12-22T16:40:54.072625",
     "exception": false,
     "start_time": "2020-12-22T16:40:53.957456",
     "status": "completed"
    },
    "tags": []
   },
   "outputs": [],
   "source": [
    "train = data[:len(train_data)]\n",
    "X_train = train.drop(labels = \"Survived\", axis=1)\n",
    "y_train = train[\"Survived\"]\n",
    "X_train, X_test, y_train, y_test = train_test_split(X_train, y_train, test_size=0.3, random_state=42)\n"
   ]
  },
  {
   "cell_type": "markdown",
   "metadata": {
    "papermill": {
     "duration": 0.100114,
     "end_time": "2020-12-22T16:40:54.274118",
     "exception": false,
     "start_time": "2020-12-22T16:40:54.174004",
     "status": "completed"
    },
    "tags": []
   },
   "source": [
    "<a id='18'></a><br>\n",
    "## 2-Classificaiton Methods\n",
    "\n",
    "\n",
    "* Logistic Regression\n",
    "* Random Forest Regression\n",
    "* Support Vector Machine (SVM)\n",
    "* K-Nearest Neighbors (KNN)"
   ]
  },
  {
   "cell_type": "markdown",
   "metadata": {
    "papermill": {
     "duration": 0.099853,
     "end_time": "2020-12-22T16:40:54.474661",
     "exception": false,
     "start_time": "2020-12-22T16:40:54.374808",
     "status": "completed"
    },
    "tags": []
   },
   "source": [
    "### Logistic Regression"
   ]
  },
  {
   "cell_type": "code",
   "execution_count": 50,
   "metadata": {
    "execution": {
     "iopub.execute_input": "2020-12-22T16:40:54.680758Z",
     "iopub.status.busy": "2020-12-22T16:40:54.680048Z",
     "iopub.status.idle": "2020-12-22T16:40:54.710877Z",
     "shell.execute_reply": "2020-12-22T16:40:54.711414Z"
    },
    "papermill": {
     "duration": 0.13672,
     "end_time": "2020-12-22T16:40:54.711581",
     "exception": false,
     "start_time": "2020-12-22T16:40:54.574861",
     "status": "completed"
    },
    "tags": []
   },
   "outputs": [
    {
     "name": "stdout",
     "output_type": "stream",
     "text": [
      "Accuracy:  0.8134328358208955\n"
     ]
    }
   ],
   "source": [
    "log_reg = LogisticRegression(random_state=42)\n",
    "log_reg.fit(X_train, y_train)\n",
    "print(\"Accuracy: \", log_reg.score(X_test,y_test))"
   ]
  },
  {
   "cell_type": "markdown",
   "metadata": {
    "papermill": {
     "duration": 0.101022,
     "end_time": "2020-12-22T16:40:54.914609",
     "exception": false,
     "start_time": "2020-12-22T16:40:54.813587",
     "status": "completed"
    },
    "tags": []
   },
   "source": [
    "### Random Forest Regression"
   ]
  },
  {
   "cell_type": "code",
   "execution_count": 51,
   "metadata": {
    "execution": {
     "iopub.execute_input": "2020-12-22T16:40:55.125947Z",
     "iopub.status.busy": "2020-12-22T16:40:55.125189Z",
     "iopub.status.idle": "2020-12-22T16:40:55.364711Z",
     "shell.execute_reply": "2020-12-22T16:40:55.364061Z"
    },
    "papermill": {
     "duration": 0.349368,
     "end_time": "2020-12-22T16:40:55.364846",
     "exception": false,
     "start_time": "2020-12-22T16:40:55.015478",
     "status": "completed"
    },
    "tags": []
   },
   "outputs": [
    {
     "name": "stdout",
     "output_type": "stream",
     "text": [
      "Accuracy:  0.8134328358208955\n"
     ]
    }
   ],
   "source": [
    "rf_reg = RandomForestClassifier(random_state=42)\n",
    "rf_reg.fit(X_train, y_train)\n",
    "print(\"Accuracy: \", rf_reg.score(X_test,y_test))"
   ]
  },
  {
   "cell_type": "markdown",
   "metadata": {
    "papermill": {
     "duration": 0.10249,
     "end_time": "2020-12-22T16:40:55.570162",
     "exception": false,
     "start_time": "2020-12-22T16:40:55.467672",
     "status": "completed"
    },
    "tags": []
   },
   "source": [
    "### Support Vector Machine (SVM)"
   ]
  },
  {
   "cell_type": "code",
   "execution_count": 52,
   "metadata": {
    "execution": {
     "iopub.execute_input": "2020-12-22T16:40:55.785179Z",
     "iopub.status.busy": "2020-12-22T16:40:55.784491Z",
     "iopub.status.idle": "2020-12-22T16:40:55.814348Z",
     "shell.execute_reply": "2020-12-22T16:40:55.815377Z"
    },
    "papermill": {
     "duration": 0.141438,
     "end_time": "2020-12-22T16:40:55.815548",
     "exception": false,
     "start_time": "2020-12-22T16:40:55.674110",
     "status": "completed"
    },
    "tags": []
   },
   "outputs": [
    {
     "name": "stdout",
     "output_type": "stream",
     "text": [
      "Accuracy:  0.8208955223880597\n"
     ]
    }
   ],
   "source": [
    "svm_clsf = SVC()\n",
    "svm_clsf.fit(X_train, y_train)\n",
    "print(\"Accuracy: \", svm_clsf.score(X_test,y_test))"
   ]
  },
  {
   "cell_type": "markdown",
   "metadata": {
    "papermill": {
     "duration": 0.106362,
     "end_time": "2020-12-22T16:40:56.056108",
     "exception": false,
     "start_time": "2020-12-22T16:40:55.949746",
     "status": "completed"
    },
    "tags": []
   },
   "source": [
    "### KNN\n",
    "\n",
    "elbow -> n:8 (the article will be updated)"
   ]
  },
  {
   "cell_type": "code",
   "execution_count": 53,
   "metadata": {
    "execution": {
     "iopub.execute_input": "2020-12-22T16:40:56.268113Z",
     "iopub.status.busy": "2020-12-22T16:40:56.267134Z",
     "iopub.status.idle": "2020-12-22T16:40:56.510711Z",
     "shell.execute_reply": "2020-12-22T16:40:56.509980Z"
    },
    "papermill": {
     "duration": 0.352369,
     "end_time": "2020-12-22T16:40:56.510836",
     "exception": false,
     "start_time": "2020-12-22T16:40:56.158467",
     "status": "completed"
    },
    "tags": []
   },
   "outputs": [
    {
     "data": {
      "text/plain": [
       "[0.7723880597014925,\n",
       " 0.7388059701492538,\n",
       " 0.7350746268656716,\n",
       " 0.7761194029850746,\n",
       " 0.8171641791044776,\n",
       " 0.8171641791044776,\n",
       " 0.8208955223880597,\n",
       " 0.8208955223880597,\n",
       " 0.8097014925373134,\n",
       " 0.8097014925373134,\n",
       " 0.8097014925373134]"
      ]
     },
     "execution_count": 53,
     "metadata": {},
     "output_type": "execute_result"
    }
   ],
   "source": [
    "best_knn = []\n",
    "for n in range(1,12):\n",
    "    knn = KNeighborsClassifier(n_neighbors=n)\n",
    "    knn.fit(X_train, y_train)\n",
    "    best_knn.insert(n, knn.score(X_test,y_test))\n",
    "best_knn\n"
   ]
  },
  {
   "cell_type": "code",
   "execution_count": 54,
   "metadata": {
    "execution": {
     "iopub.execute_input": "2020-12-22T16:40:56.732358Z",
     "iopub.status.busy": "2020-12-22T16:40:56.731372Z",
     "iopub.status.idle": "2020-12-22T16:40:56.757692Z",
     "shell.execute_reply": "2020-12-22T16:40:56.757003Z"
    },
    "papermill": {
     "duration": 0.138767,
     "end_time": "2020-12-22T16:40:56.757820",
     "exception": false,
     "start_time": "2020-12-22T16:40:56.619053",
     "status": "completed"
    },
    "tags": []
   },
   "outputs": [
    {
     "name": "stdout",
     "output_type": "stream",
     "text": [
      "Accuracy:  0.8208955223880597\n"
     ]
    }
   ],
   "source": [
    "knn_clsf = KNeighborsClassifier(n_neighbors=8)\n",
    "knn_clsf.fit(X_train, y_train)\n",
    "print(\"Accuracy: \", knn_clsf.score(X_test,y_test))"
   ]
  },
  {
   "cell_type": "markdown",
   "metadata": {
    "papermill": {
     "duration": 0.103534,
     "end_time": "2020-12-22T16:40:56.967069",
     "exception": false,
     "start_time": "2020-12-22T16:40:56.863535",
     "status": "completed"
    },
    "tags": []
   },
   "source": [
    "<a id='19'></a><br>\n",
    "## 3- Ensemble Modeling"
   ]
  },
  {
   "cell_type": "code",
   "execution_count": 55,
   "metadata": {
    "execution": {
     "iopub.execute_input": "2020-12-22T16:40:57.187398Z",
     "iopub.status.busy": "2020-12-22T16:40:57.186328Z",
     "iopub.status.idle": "2020-12-22T16:40:59.649585Z",
     "shell.execute_reply": "2020-12-22T16:40:59.649028Z"
    },
    "papermill": {
     "duration": 2.578142,
     "end_time": "2020-12-22T16:40:59.649732",
     "exception": false,
     "start_time": "2020-12-22T16:40:57.071590",
     "status": "completed"
    },
    "tags": []
   },
   "outputs": [
    {
     "name": "stdout",
     "output_type": "stream",
     "text": [
      "Accuracy:  0.8208955223880597\n"
     ]
    }
   ],
   "source": [
    "voting_classfication = VotingClassifier(estimators = [('knn', knn_clsf),('lg', log_reg), ('rfg', rf_reg), ('svc', svm_clsf)], voting=\"hard\", n_jobs=-1)\n",
    "voting_classfication.fit(X_train, y_train)\n",
    "print(\"Accuracy: \", voting_classfication.score(X_test,y_test))"
   ]
  },
  {
   "cell_type": "code",
   "execution_count": 56,
   "metadata": {
    "execution": {
     "iopub.execute_input": "2020-12-22T16:40:59.869015Z",
     "iopub.status.busy": "2020-12-22T16:40:59.868293Z",
     "iopub.status.idle": "2020-12-22T16:41:00.267718Z",
     "shell.execute_reply": "2020-12-22T16:41:00.268458Z"
    },
    "papermill": {
     "duration": 0.514036,
     "end_time": "2020-12-22T16:41:00.268690",
     "exception": false,
     "start_time": "2020-12-22T16:40:59.754654",
     "status": "completed"
    },
    "tags": []
   },
   "outputs": [],
   "source": [
    "test_result = pd.Series(voting_classfication.predict(test), name = \"Survived\").astype(int)\n",
    "results = pd.concat([test_data[\"PassengerId\"], test_result],axis = 1)\n",
    "results.to_csv(\"titanic_submission2.csv\", index = False)"
   ]
  },
  {
   "cell_type": "markdown",
   "metadata": {
    "papermill": {
     "duration": 0.104305,
     "end_time": "2020-12-22T16:41:00.486033",
     "exception": false,
     "start_time": "2020-12-22T16:41:00.381728",
     "status": "completed"
    },
    "tags": []
   },
   "source": [
    "# Building New Models"
   ]
  },
  {
   "cell_type": "code",
   "execution_count": 57,
   "metadata": {
    "execution": {
     "iopub.execute_input": "2020-12-22T16:41:00.710900Z",
     "iopub.status.busy": "2020-12-22T16:41:00.707984Z",
     "iopub.status.idle": "2020-12-22T16:41:00.714259Z",
     "shell.execute_reply": "2020-12-22T16:41:00.715164Z"
    },
    "papermill": {
     "duration": 0.125281,
     "end_time": "2020-12-22T16:41:00.715377",
     "exception": false,
     "start_time": "2020-12-22T16:41:00.590096",
     "status": "completed"
    },
    "tags": []
   },
   "outputs": [],
   "source": [
    "from sklearn.model_selection import cross_val_score\n",
    "from sklearn.naive_bayes import GaussianNB\n",
    "from sklearn.linear_model import LogisticRegression\n",
    "from sklearn import tree\n",
    "from sklearn.neighbors import KNeighborsClassifier\n",
    "from sklearn.ensemble import RandomForestClassifier\n",
    "from sklearn.svm import SVC"
   ]
  },
  {
   "cell_type": "code",
   "execution_count": 58,
   "metadata": {
    "execution": {
     "iopub.execute_input": "2020-12-22T16:41:00.937352Z",
     "iopub.status.busy": "2020-12-22T16:41:00.936654Z",
     "iopub.status.idle": "2020-12-22T16:41:00.978985Z",
     "shell.execute_reply": "2020-12-22T16:41:00.978232Z"
    },
    "papermill": {
     "duration": 0.152194,
     "end_time": "2020-12-22T16:41:00.979105",
     "exception": false,
     "start_time": "2020-12-22T16:41:00.826911",
     "status": "completed"
    },
    "tags": []
   },
   "outputs": [
    {
     "name": "stdout",
     "output_type": "stream",
     "text": [
      "[0.744      0.856      0.576      0.80645161 0.80645161]\n",
      "0.7577806451612904\n"
     ]
    }
   ],
   "source": [
    "#I usually use Naive Bayes as a baseline for my classification tasks \n",
    "gnb = GaussianNB()\n",
    "cv = cross_val_score(gnb,X_train,y_train,cv=5)\n",
    "print(cv)\n",
    "print(cv.mean())"
   ]
  },
  {
   "cell_type": "code",
   "execution_count": 59,
   "metadata": {
    "execution": {
     "iopub.execute_input": "2020-12-22T16:41:01.196144Z",
     "iopub.status.busy": "2020-12-22T16:41:01.195411Z",
     "iopub.status.idle": "2020-12-22T16:41:01.309141Z",
     "shell.execute_reply": "2020-12-22T16:41:01.309752Z"
    },
    "papermill": {
     "duration": 0.226005,
     "end_time": "2020-12-22T16:41:01.309932",
     "exception": false,
     "start_time": "2020-12-22T16:41:01.083927",
     "status": "completed"
    },
    "tags": []
   },
   "outputs": [
    {
     "name": "stdout",
     "output_type": "stream",
     "text": [
      "[0.784      0.896      0.76       0.7983871  0.84677419]\n",
      "0.8170322580645163\n"
     ]
    }
   ],
   "source": [
    "lr = LogisticRegression(max_iter = 2000)\n",
    "cv = cross_val_score(lr,X_train,y_train,cv=5)\n",
    "print(cv)\n",
    "print(cv.mean())"
   ]
  },
  {
   "cell_type": "code",
   "execution_count": 60,
   "metadata": {
    "execution": {
     "iopub.execute_input": "2020-12-22T16:41:01.540560Z",
     "iopub.status.busy": "2020-12-22T16:41:01.539412Z",
     "iopub.status.idle": "2020-12-22T16:41:01.647727Z",
     "shell.execute_reply": "2020-12-22T16:41:01.648278Z"
    },
    "papermill": {
     "duration": 0.224682,
     "end_time": "2020-12-22T16:41:01.648428",
     "exception": false,
     "start_time": "2020-12-22T16:41:01.423746",
     "status": "completed"
    },
    "tags": []
   },
   "outputs": [
    {
     "name": "stdout",
     "output_type": "stream",
     "text": [
      "[0.784      0.896      0.76       0.7983871  0.84677419]\n",
      "0.8170322580645163\n"
     ]
    }
   ],
   "source": [
    "lr = LogisticRegression(max_iter = 2000)\n",
    "cv = cross_val_score(lr,X_train,y_train,cv=5)\n",
    "print(cv)\n",
    "print(cv.mean())"
   ]
  },
  {
   "cell_type": "code",
   "execution_count": 61,
   "metadata": {
    "execution": {
     "iopub.execute_input": "2020-12-22T16:41:01.874875Z",
     "iopub.status.busy": "2020-12-22T16:41:01.874063Z",
     "iopub.status.idle": "2020-12-22T16:41:01.918738Z",
     "shell.execute_reply": "2020-12-22T16:41:01.917813Z"
    },
    "papermill": {
     "duration": 0.164124,
     "end_time": "2020-12-22T16:41:01.918911",
     "exception": false,
     "start_time": "2020-12-22T16:41:01.754787",
     "status": "completed"
    },
    "tags": []
   },
   "outputs": [
    {
     "name": "stdout",
     "output_type": "stream",
     "text": [
      "[0.776      0.84       0.744      0.78225806 0.81451613]\n",
      "0.7913548387096775\n"
     ]
    }
   ],
   "source": [
    "dt = tree.DecisionTreeClassifier(random_state = 1)\n",
    "cv = cross_val_score(dt,X_train,y_train,cv=5)\n",
    "print(cv)\n",
    "print(cv.mean())"
   ]
  },
  {
   "cell_type": "code",
   "execution_count": 62,
   "metadata": {
    "execution": {
     "iopub.execute_input": "2020-12-22T16:41:02.134000Z",
     "iopub.status.busy": "2020-12-22T16:41:02.133349Z",
     "iopub.status.idle": "2020-12-22T16:41:02.176983Z",
     "shell.execute_reply": "2020-12-22T16:41:02.177789Z"
    },
    "papermill": {
     "duration": 0.15309,
     "end_time": "2020-12-22T16:41:02.177992",
     "exception": false,
     "start_time": "2020-12-22T16:41:02.024902",
     "status": "completed"
    },
    "tags": []
   },
   "outputs": [
    {
     "name": "stdout",
     "output_type": "stream",
     "text": [
      "[0.776      0.84       0.744      0.78225806 0.81451613]\n",
      "0.7913548387096775\n"
     ]
    }
   ],
   "source": [
    "dt = tree.DecisionTreeClassifier(random_state = 1)\n",
    "cv = cross_val_score(dt,X_train,y_train,cv=5)\n",
    "print(cv)\n",
    "print(cv.mean())"
   ]
  },
  {
   "cell_type": "code",
   "execution_count": 63,
   "metadata": {
    "execution": {
     "iopub.execute_input": "2020-12-22T16:41:02.396143Z",
     "iopub.status.busy": "2020-12-22T16:41:02.395401Z",
     "iopub.status.idle": "2020-12-22T16:41:02.476486Z",
     "shell.execute_reply": "2020-12-22T16:41:02.477002Z"
    },
    "papermill": {
     "duration": 0.190684,
     "end_time": "2020-12-22T16:41:02.477172",
     "exception": false,
     "start_time": "2020-12-22T16:41:02.286488",
     "status": "completed"
    },
    "tags": []
   },
   "outputs": [
    {
     "name": "stdout",
     "output_type": "stream",
     "text": [
      "[0.808      0.84       0.776      0.81451613 0.82258065]\n",
      "0.8122193548387097\n"
     ]
    }
   ],
   "source": [
    "knn = KNeighborsClassifier()\n",
    "cv = cross_val_score(knn,X_train,y_train,cv=5)\n",
    "print(cv)\n",
    "print(cv.mean())"
   ]
  },
  {
   "cell_type": "code",
   "execution_count": 64,
   "metadata": {
    "execution": {
     "iopub.execute_input": "2020-12-22T16:41:02.699979Z",
     "iopub.status.busy": "2020-12-22T16:41:02.699251Z",
     "iopub.status.idle": "2020-12-22T16:41:02.777186Z",
     "shell.execute_reply": "2020-12-22T16:41:02.776366Z"
    },
    "papermill": {
     "duration": 0.193335,
     "end_time": "2020-12-22T16:41:02.777346",
     "exception": false,
     "start_time": "2020-12-22T16:41:02.584011",
     "status": "completed"
    },
    "tags": []
   },
   "outputs": [
    {
     "name": "stdout",
     "output_type": "stream",
     "text": [
      "[0.808      0.84       0.776      0.81451613 0.82258065]\n",
      "0.8122193548387097\n"
     ]
    }
   ],
   "source": [
    "knn = KNeighborsClassifier()\n",
    "cv = cross_val_score(knn,X_train,y_train,cv=5)\n",
    "print(cv)\n",
    "print(cv.mean())"
   ]
  },
  {
   "cell_type": "code",
   "execution_count": 65,
   "metadata": {
    "execution": {
     "iopub.execute_input": "2020-12-22T16:41:02.999749Z",
     "iopub.status.busy": "2020-12-22T16:41:02.998674Z",
     "iopub.status.idle": "2020-12-22T16:41:04.130496Z",
     "shell.execute_reply": "2020-12-22T16:41:04.130999Z"
    },
    "papermill": {
     "duration": 1.245768,
     "end_time": "2020-12-22T16:41:04.131153",
     "exception": false,
     "start_time": "2020-12-22T16:41:02.885385",
     "status": "completed"
    },
    "tags": []
   },
   "outputs": [
    {
     "name": "stdout",
     "output_type": "stream",
     "text": [
      "[0.808      0.856      0.752      0.78225806 0.83064516]\n",
      "0.8057806451612904\n"
     ]
    }
   ],
   "source": [
    "rf = RandomForestClassifier(random_state = 1)\n",
    "cv = cross_val_score(rf,X_train,y_train,cv=5)\n",
    "print(cv)\n",
    "print(cv.mean())"
   ]
  },
  {
   "cell_type": "code",
   "execution_count": 66,
   "metadata": {
    "execution": {
     "iopub.execute_input": "2020-12-22T16:41:04.354530Z",
     "iopub.status.busy": "2020-12-22T16:41:04.353851Z",
     "iopub.status.idle": "2020-12-22T16:41:05.479455Z",
     "shell.execute_reply": "2020-12-22T16:41:05.478375Z"
    },
    "papermill": {
     "duration": 1.239746,
     "end_time": "2020-12-22T16:41:05.479640",
     "exception": false,
     "start_time": "2020-12-22T16:41:04.239894",
     "status": "completed"
    },
    "tags": []
   },
   "outputs": [
    {
     "name": "stdout",
     "output_type": "stream",
     "text": [
      "[0.808      0.856      0.752      0.78225806 0.83064516]\n",
      "0.8057806451612904\n"
     ]
    }
   ],
   "source": [
    "rf = RandomForestClassifier(random_state = 1)\n",
    "cv = cross_val_score(rf,X_train,y_train,cv=5)\n",
    "print(cv)\n",
    "print(cv.mean())"
   ]
  },
  {
   "cell_type": "code",
   "execution_count": 67,
   "metadata": {
    "execution": {
     "iopub.execute_input": "2020-12-22T16:41:05.705906Z",
     "iopub.status.busy": "2020-12-22T16:41:05.705181Z",
     "iopub.status.idle": "2020-12-22T16:41:05.985963Z",
     "shell.execute_reply": "2020-12-22T16:41:05.985379Z"
    },
    "papermill": {
     "duration": 0.398474,
     "end_time": "2020-12-22T16:41:05.986094",
     "exception": false,
     "start_time": "2020-12-22T16:41:05.587620",
     "status": "completed"
    },
    "tags": []
   },
   "outputs": [
    {
     "name": "stdout",
     "output_type": "stream",
     "text": [
      "[0.8        0.896      0.784      0.79032258 0.84677419]\n",
      "0.8234193548387096\n"
     ]
    }
   ],
   "source": [
    "svc = SVC(probability = True)\n",
    "cv = cross_val_score(svc,X_train,y_train,cv=5)\n",
    "print(cv)\n",
    "print(cv.mean())"
   ]
  },
  {
   "cell_type": "code",
   "execution_count": 68,
   "metadata": {
    "execution": {
     "iopub.execute_input": "2020-12-22T16:41:06.210321Z",
     "iopub.status.busy": "2020-12-22T16:41:06.209271Z",
     "iopub.status.idle": "2020-12-22T16:41:06.489280Z",
     "shell.execute_reply": "2020-12-22T16:41:06.488703Z"
    },
    "papermill": {
     "duration": 0.394797,
     "end_time": "2020-12-22T16:41:06.489404",
     "exception": false,
     "start_time": "2020-12-22T16:41:06.094607",
     "status": "completed"
    },
    "tags": []
   },
   "outputs": [
    {
     "name": "stdout",
     "output_type": "stream",
     "text": [
      "[0.8        0.896      0.784      0.79032258 0.84677419]\n",
      "0.8234193548387096\n"
     ]
    }
   ],
   "source": [
    "svc_poly = SVC( probability = True, kernel='poly', degree=2, gamma='auto', coef0=1, C=5)\n",
    "cv = cross_val_score(svc,X_train,y_train,cv=5)\n",
    "print(cv)\n",
    "print(cv.mean())"
   ]
  },
  {
   "cell_type": "code",
   "execution_count": 69,
   "metadata": {
    "execution": {
     "iopub.execute_input": "2020-12-22T16:41:06.714332Z",
     "iopub.status.busy": "2020-12-22T16:41:06.713680Z",
     "iopub.status.idle": "2020-12-22T16:41:07.020595Z",
     "shell.execute_reply": "2020-12-22T16:41:07.020030Z"
    },
    "papermill": {
     "duration": 0.421052,
     "end_time": "2020-12-22T16:41:07.020716",
     "exception": false,
     "start_time": "2020-12-22T16:41:06.599664",
     "status": "completed"
    },
    "tags": []
   },
   "outputs": [
    {
     "name": "stdout",
     "output_type": "stream",
     "text": [
      "[0.8        0.896      0.784      0.79032258 0.84677419]\n",
      "0.8234193548387096\n"
     ]
    }
   ],
   "source": [
    "svc_rbf = SVC( probability = True, kernel='rbf', gamma=0.5, C=0.1)\n",
    "cv = cross_val_score(svc,X_train,y_train,cv=5)\n",
    "print(cv)\n",
    "print(cv.mean())"
   ]
  },
  {
   "cell_type": "code",
   "execution_count": 70,
   "metadata": {
    "execution": {
     "iopub.execute_input": "2020-12-22T16:41:07.244926Z",
     "iopub.status.busy": "2020-12-22T16:41:07.244188Z",
     "iopub.status.idle": "2020-12-22T16:41:08.554789Z",
     "shell.execute_reply": "2020-12-22T16:41:08.555725Z"
    },
    "papermill": {
     "duration": 1.426325,
     "end_time": "2020-12-22T16:41:08.556011",
     "exception": false,
     "start_time": "2020-12-22T16:41:07.129686",
     "status": "completed"
    },
    "tags": []
   },
   "outputs": [
    {
     "name": "stdout",
     "output_type": "stream",
     "text": [
      "[0.792      0.84       0.744      0.78225806 0.83870968]\n",
      "0.7993935483870969\n"
     ]
    }
   ],
   "source": [
    "from xgboost import XGBClassifier\n",
    "xgb = XGBClassifier(random_state =1)\n",
    "cv = cross_val_score(xgb,X_train,y_train,cv=5)\n",
    "print(cv)\n",
    "print(cv.mean())"
   ]
  },
  {
   "cell_type": "code",
   "execution_count": 71,
   "metadata": {
    "execution": {
     "iopub.execute_input": "2020-12-22T16:41:08.838358Z",
     "iopub.status.busy": "2020-12-22T16:41:08.837308Z",
     "iopub.status.idle": "2020-12-22T16:41:08.840009Z",
     "shell.execute_reply": "2020-12-22T16:41:08.840646Z"
    },
    "papermill": {
     "duration": 0.135957,
     "end_time": "2020-12-22T16:41:08.840807",
     "exception": false,
     "start_time": "2020-12-22T16:41:08.704850",
     "status": "completed"
    },
    "tags": []
   },
   "outputs": [],
   "source": [
    "#Voting classifier takes all of the inputs and averages the results. \n",
    "#For a \"hard\" voting classifier each classifier gets 1 vote \"yes\" or \"no\" and the result is just a popular vote. For this, you generally want odd numbers\n",
    "#A \"soft\" classifier averages the confidence of each of the models. If a the average confidence is > 50% that it is a 1 it will be counted as such\n",
    "from sklearn.ensemble import VotingClassifier\n",
    "voting_clf = VotingClassifier(estimators = [('lr',lr),('knn',knn),('rf',rf),('gnb',gnb),('svc',svc),('xgb',xgb),\n",
    "                                            ('svc_poly', svc_poly), ('svc_rbf', svc_rbf) ], voting = 'soft') "
   ]
  },
  {
   "cell_type": "code",
   "execution_count": 72,
   "metadata": {
    "execution": {
     "iopub.execute_input": "2020-12-22T16:41:09.071218Z",
     "iopub.status.busy": "2020-12-22T16:41:09.070512Z",
     "iopub.status.idle": "2020-12-22T16:41:11.957719Z",
     "shell.execute_reply": "2020-12-22T16:41:11.958593Z"
    },
    "papermill": {
     "duration": 3.004834,
     "end_time": "2020-12-22T16:41:11.958792",
     "exception": false,
     "start_time": "2020-12-22T16:41:08.953958",
     "status": "completed"
    },
    "tags": []
   },
   "outputs": [
    {
     "name": "stdout",
     "output_type": "stream",
     "text": [
      "[0.784      0.88       0.76       0.82258065 0.83870968]\n",
      "0.8170580645161291\n"
     ]
    }
   ],
   "source": [
    "cv = cross_val_score(voting_clf,X_train,y_train,cv=5)\n",
    "print(cv)\n",
    "print(cv.mean())"
   ]
  },
  {
   "cell_type": "markdown",
   "metadata": {
    "papermill": {
     "duration": 0.11832,
     "end_time": "2020-12-22T16:41:12.221106",
     "exception": false,
     "start_time": "2020-12-22T16:41:12.102786",
     "status": "completed"
    },
    "tags": []
   },
   "source": [
    "# Initial Results"
   ]
  },
  {
   "cell_type": "code",
   "execution_count": 73,
   "metadata": {
    "execution": {
     "iopub.execute_input": "2020-12-22T16:41:12.451242Z",
     "iopub.status.busy": "2020-12-22T16:41:12.450479Z",
     "iopub.status.idle": "2020-12-22T16:41:12.531208Z",
     "shell.execute_reply": "2020-12-22T16:41:12.530604Z"
    },
    "papermill": {
     "duration": 0.20006,
     "end_time": "2020-12-22T16:41:12.531338",
     "exception": false,
     "start_time": "2020-12-22T16:41:12.331278",
     "status": "completed"
    },
    "tags": []
   },
   "outputs": [],
   "source": [
    "svc_poly.fit(X_train,y_train)\n",
    "test_result = pd.Series(svc_poly.predict(test), name = \"Survived\").astype(int)\n",
    "results = pd.concat([test_data[\"PassengerId\"], test_result],axis = 1)\n",
    "results.to_csv(\"titanic_submission.csv\", index = False)"
   ]
  },
  {
   "cell_type": "markdown",
   "metadata": {
    "papermill": {
     "duration": 0.11126,
     "end_time": "2020-12-22T16:41:12.756647",
     "exception": false,
     "start_time": "2020-12-22T16:41:12.645387",
     "status": "completed"
    },
    "tags": []
   },
   "source": [
    "# Model Tuned Performance"
   ]
  },
  {
   "cell_type": "code",
   "execution_count": 74,
   "metadata": {
    "execution": {
     "iopub.execute_input": "2020-12-22T16:41:12.986639Z",
     "iopub.status.busy": "2020-12-22T16:41:12.985766Z",
     "iopub.status.idle": "2020-12-22T16:41:12.988933Z",
     "shell.execute_reply": "2020-12-22T16:41:12.988325Z"
    },
    "papermill": {
     "duration": 0.119936,
     "end_time": "2020-12-22T16:41:12.989056",
     "exception": false,
     "start_time": "2020-12-22T16:41:12.869120",
     "status": "completed"
    },
    "tags": []
   },
   "outputs": [],
   "source": [
    "from sklearn.model_selection import GridSearchCV \n",
    "from sklearn.model_selection import RandomizedSearchCV "
   ]
  },
  {
   "cell_type": "code",
   "execution_count": 75,
   "metadata": {
    "execution": {
     "iopub.execute_input": "2020-12-22T16:41:13.222589Z",
     "iopub.status.busy": "2020-12-22T16:41:13.221886Z",
     "iopub.status.idle": "2020-12-22T16:41:13.225706Z",
     "shell.execute_reply": "2020-12-22T16:41:13.225002Z"
    },
    "papermill": {
     "duration": 0.120014,
     "end_time": "2020-12-22T16:41:13.225841",
     "exception": false,
     "start_time": "2020-12-22T16:41:13.105827",
     "status": "completed"
    },
    "tags": []
   },
   "outputs": [],
   "source": [
    "#simple performance reporting function\n",
    "def clf_performance(classifier, model_name):\n",
    "    print(model_name)\n",
    "    print('Best Score: ' + str(classifier.best_score_))\n",
    "    print('Best Parameters: ' + str(classifier.best_params_))"
   ]
  },
  {
   "cell_type": "code",
   "execution_count": 76,
   "metadata": {
    "execution": {
     "iopub.execute_input": "2020-12-22T16:41:13.460365Z",
     "iopub.status.busy": "2020-12-22T16:41:13.459233Z",
     "iopub.status.idle": "2020-12-22T16:41:14.504148Z",
     "shell.execute_reply": "2020-12-22T16:41:14.505267Z"
    },
    "papermill": {
     "duration": 1.167685,
     "end_time": "2020-12-22T16:41:14.505464",
     "exception": false,
     "start_time": "2020-12-22T16:41:13.337779",
     "status": "completed"
    },
    "tags": []
   },
   "outputs": [
    {
     "name": "stdout",
     "output_type": "stream",
     "text": [
      "Fitting 5 folds for each of 40 candidates, totalling 200 fits\n"
     ]
    },
    {
     "name": "stderr",
     "output_type": "stream",
     "text": [
      "[Parallel(n_jobs=-1)]: Using backend LokyBackend with 4 concurrent workers.\n"
     ]
    },
    {
     "name": "stdout",
     "output_type": "stream",
     "text": [
      "Logistic Regression\n",
      "Best Score: 0.8250451612903227\n",
      "Best Parameters: {'C': 0.615848211066026, 'max_iter': 2000, 'penalty': 'l1', 'solver': 'liblinear'}\n"
     ]
    },
    {
     "name": "stderr",
     "output_type": "stream",
     "text": [
      "[Parallel(n_jobs=-1)]: Done 160 tasks      | elapsed:    0.9s\n",
      "[Parallel(n_jobs=-1)]: Done 200 out of 200 | elapsed:    1.0s finished\n"
     ]
    }
   ],
   "source": [
    "lr = LogisticRegression()\n",
    "param_grid = {'max_iter' : [2000],\n",
    "              'penalty' : ['l1', 'l2'],\n",
    "              'C' : np.logspace(-4, 4, 20),\n",
    "              'solver' : ['liblinear']}\n",
    "\n",
    "clf_lr = GridSearchCV(lr, param_grid = param_grid, cv = 5, verbose = True, n_jobs = -1)\n",
    "best_clf_lr = clf_lr.fit(X_train,y_train)\n",
    "clf_performance(best_clf_lr,'Logistic Regression')"
   ]
  },
  {
   "cell_type": "code",
   "execution_count": 77,
   "metadata": {
    "execution": {
     "iopub.execute_input": "2020-12-22T16:41:14.743037Z",
     "iopub.status.busy": "2020-12-22T16:41:14.742310Z",
     "iopub.status.idle": "2020-12-22T16:41:16.080355Z",
     "shell.execute_reply": "2020-12-22T16:41:16.080938Z"
    },
    "papermill": {
     "duration": 1.454796,
     "end_time": "2020-12-22T16:41:16.081097",
     "exception": false,
     "start_time": "2020-12-22T16:41:14.626301",
     "status": "completed"
    },
    "tags": []
   },
   "outputs": [
    {
     "name": "stdout",
     "output_type": "stream",
     "text": [
      "Fitting 5 folds for each of 48 candidates, totalling 240 fits\n"
     ]
    },
    {
     "name": "stderr",
     "output_type": "stream",
     "text": [
      "[Parallel(n_jobs=-1)]: Using backend LokyBackend with 4 concurrent workers.\n"
     ]
    },
    {
     "name": "stdout",
     "output_type": "stream",
     "text": [
      "KNN\n",
      "Best Score: 0.8202709677419356\n",
      "Best Parameters: {'algorithm': 'auto', 'n_neighbors': 7, 'p': 1, 'weights': 'uniform'}\n"
     ]
    },
    {
     "name": "stderr",
     "output_type": "stream",
     "text": [
      "[Parallel(n_jobs=-1)]: Done 193 tasks      | elapsed:    1.1s\n",
      "[Parallel(n_jobs=-1)]: Done 240 out of 240 | elapsed:    1.3s finished\n"
     ]
    }
   ],
   "source": [
    "knn = KNeighborsClassifier()\n",
    "param_grid = {'n_neighbors' : [3,5,7,9],\n",
    "              'weights' : ['uniform', 'distance'],\n",
    "              'algorithm' : ['auto', 'ball_tree','kd_tree'],\n",
    "              'p' : [1,2]}\n",
    "clf_knn = GridSearchCV(knn, param_grid = param_grid, cv = 5, verbose = True, n_jobs = -1)\n",
    "best_clf_knn = clf_knn.fit(X_train,y_train)\n",
    "clf_performance(best_clf_knn,'KNN')"
   ]
  },
  {
   "cell_type": "code",
   "execution_count": 78,
   "metadata": {
    "execution": {
     "iopub.execute_input": "2020-12-22T16:41:16.322534Z",
     "iopub.status.busy": "2020-12-22T16:41:16.321612Z",
     "iopub.status.idle": "2020-12-22T16:41:26.291832Z",
     "shell.execute_reply": "2020-12-22T16:41:26.292347Z"
    },
    "papermill": {
     "duration": 10.094804,
     "end_time": "2020-12-22T16:41:26.292510",
     "exception": false,
     "start_time": "2020-12-22T16:41:16.197706",
     "status": "completed"
    },
    "tags": []
   },
   "outputs": [
    {
     "name": "stdout",
     "output_type": "stream",
     "text": [
      "Fitting 5 folds for each of 55 candidates, totalling 275 fits\n"
     ]
    },
    {
     "name": "stderr",
     "output_type": "stream",
     "text": [
      "[Parallel(n_jobs=-1)]: Using backend LokyBackend with 4 concurrent workers.\n",
      "[Parallel(n_jobs=-1)]: Done  76 tasks      | elapsed:    2.0s\n"
     ]
    },
    {
     "name": "stdout",
     "output_type": "stream",
     "text": [
      "SVC\n",
      "Best Score: 0.8314967741935483\n",
      "Best Parameters: {'C': 0.1, 'degree': 4, 'kernel': 'poly'}\n"
     ]
    },
    {
     "name": "stderr",
     "output_type": "stream",
     "text": [
      "[Parallel(n_jobs=-1)]: Done 275 out of 275 | elapsed:    9.9s finished\n"
     ]
    }
   ],
   "source": [
    "svc = SVC(probability = True)\n",
    "param_grid = tuned_parameters = [{'kernel': ['rbf'], 'gamma': [.1,.5,1,2,5,10],\n",
    "                                  'C': [.1, 1, 10, 100, 1000]},\n",
    "                                 {'kernel': ['linear'], 'C': [.1, 1, 10, 100, 1000]},\n",
    "                                 {'kernel': ['poly'], 'degree' : [2,3,4,5], 'C': [.1, 1, 10, 100, 1000]}]\n",
    "clf_svc = GridSearchCV(svc, param_grid = param_grid, cv = 5, verbose = True, n_jobs = -1)\n",
    "best_clf_svc = clf_svc.fit(X_train,y_train)\n",
    "clf_performance(best_clf_svc,'SVC')"
   ]
  },
  {
   "cell_type": "code",
   "execution_count": 79,
   "metadata": {
    "execution": {
     "iopub.execute_input": "2020-12-22T16:41:26.536282Z",
     "iopub.status.busy": "2020-12-22T16:41:26.535152Z",
     "iopub.status.idle": "2020-12-22T16:51:48.692735Z",
     "shell.execute_reply": "2020-12-22T16:51:48.693799Z"
    },
    "papermill": {
     "duration": 622.28405,
     "end_time": "2020-12-22T16:51:48.694030",
     "exception": false,
     "start_time": "2020-12-22T16:41:26.409980",
     "status": "completed"
    },
    "tags": []
   },
   "outputs": [
    {
     "name": "stdout",
     "output_type": "stream",
     "text": [
      "Fitting 5 folds for each of 288 candidates, totalling 1440 fits\n"
     ]
    },
    {
     "name": "stderr",
     "output_type": "stream",
     "text": [
      "[Parallel(n_jobs=-1)]: Using backend LokyBackend with 4 concurrent workers.\n",
      "[Parallel(n_jobs=-1)]: Done  42 tasks      | elapsed:   19.0s\n",
      "[Parallel(n_jobs=-1)]: Done 192 tasks      | elapsed:  1.4min\n",
      "[Parallel(n_jobs=-1)]: Done 442 tasks      | elapsed:  3.2min\n",
      "[Parallel(n_jobs=-1)]: Done 792 tasks      | elapsed:  5.7min\n",
      "[Parallel(n_jobs=-1)]: Done 1242 tasks      | elapsed:  8.9min\n",
      "[Parallel(n_jobs=-1)]: Done 1440 out of 1440 | elapsed: 10.3min finished\n"
     ]
    },
    {
     "name": "stdout",
     "output_type": "stream",
     "text": [
      "Random Forest\n",
      "Best Score: 0.8218838709677421\n",
      "Best Parameters: {'bootstrap': True, 'criterion': 'gini', 'max_depth': 15, 'max_features': 10, 'min_samples_leaf': 2, 'min_samples_split': 2, 'n_estimators': 500}\n"
     ]
    }
   ],
   "source": [
    "rf = RandomForestClassifier(random_state = 1)\n",
    "param_grid =  {'n_estimators': [400,450,500,550],\n",
    "               'criterion':['gini','entropy'],\n",
    "                                  'bootstrap': [True],\n",
    "                                  'max_depth': [15, 20, 25],\n",
    "                                  'max_features': ['auto','sqrt', 10],\n",
    "                                  'min_samples_leaf': [2,3],\n",
    "                                  'min_samples_split': [2,3]}\n",
    "                                  \n",
    "clf_rf = GridSearchCV(rf, param_grid = param_grid, cv = 5, verbose = True, n_jobs = -1)\n",
    "best_clf_rf = clf_rf.fit(X_train,y_train)\n",
    "clf_performance(best_clf_rf,'Random Forest')"
   ]
  },
  {
   "cell_type": "code",
   "execution_count": 80,
   "metadata": {
    "execution": {
     "iopub.execute_input": "2020-12-22T16:51:48.948743Z",
     "iopub.status.busy": "2020-12-22T16:51:48.947519Z",
     "iopub.status.idle": "2020-12-22T16:51:50.362155Z",
     "shell.execute_reply": "2020-12-22T16:51:50.361614Z"
    },
    "papermill": {
     "duration": 1.544478,
     "end_time": "2020-12-22T16:51:50.362288",
     "exception": false,
     "start_time": "2020-12-22T16:51:48.817810",
     "status": "completed"
    },
    "tags": []
   },
   "outputs": [
    {
     "data": {
      "text/plain": [
       "<matplotlib.axes._subplots.AxesSubplot at 0x7fee49ca9790>"
      ]
     },
     "execution_count": 80,
     "metadata": {},
     "output_type": "execute_result"
    },
    {
     "data": {
      "image/png": "[encoded data removed]",
      "text/plain": [
       "<Figure size 432x288 with 1 Axes>"
      ]
     },
     "metadata": {
      "needs_background": "light"
     },
     "output_type": "display_data"
    }
   ],
   "source": [
    "best_rf = best_clf_rf.best_estimator_.fit(X_train,y_train)\n",
    "feat_importances = pd.Series(best_rf.feature_importances_, index=X_train.columns)\n",
    "feat_importances.nlargest(20).plot(kind='barh')"
   ]
  },
  {
   "cell_type": "code",
   "execution_count": 81,
   "metadata": {
    "execution": {
     "iopub.execute_input": "2020-12-22T16:51:50.617035Z",
     "iopub.status.busy": "2020-12-22T16:51:50.616215Z",
     "iopub.status.idle": "2020-12-22T16:55:07.338858Z",
     "shell.execute_reply": "2020-12-22T16:55:07.338119Z"
    },
    "papermill": {
     "duration": 196.854975,
     "end_time": "2020-12-22T16:55:07.339004",
     "exception": false,
     "start_time": "2020-12-22T16:51:50.484029",
     "status": "completed"
    },
    "tags": []
   },
   "outputs": [
    {
     "name": "stdout",
     "output_type": "stream",
     "text": [
      "Fitting 5 folds for each of 243 candidates, totalling 1215 fits\n"
     ]
    },
    {
     "name": "stderr",
     "output_type": "stream",
     "text": [
      "[Parallel(n_jobs=-1)]: Using backend LokyBackend with 4 concurrent workers.\n",
      "[Parallel(n_jobs=-1)]: Done  42 tasks      | elapsed:    6.7s\n",
      "[Parallel(n_jobs=-1)]: Done 192 tasks      | elapsed:   28.7s\n",
      "[Parallel(n_jobs=-1)]: Done 442 tasks      | elapsed:  1.1min\n",
      "[Parallel(n_jobs=-1)]: Done 792 tasks      | elapsed:  2.1min\n",
      "[Parallel(n_jobs=-1)]: Done 1215 out of 1215 | elapsed:  3.3min finished\n"
     ]
    },
    {
     "name": "stdout",
     "output_type": "stream",
     "text": [
      "XGB\n",
      "Best Score: 0.8346580645161289\n",
      "Best Parameters: {'colsample_bytree': 0.8, 'gamma': 1, 'learning_rate': 0.5, 'max_depth': 10, 'min_child_weight': 0.01, 'n_estimators': 450, 'reg_alpha': 1, 'reg_lambda': 5, 'sampling_method': 'uniform', 'subsample': 0.65}\n"
     ]
    }
   ],
   "source": [
    "param_grid = {\n",
    "    'n_estimators': [450,500,550],\n",
    "    'colsample_bytree': [0.75,0.8,0.85],\n",
    "    'max_depth': [10],\n",
    "    'reg_alpha': [1],\n",
    "    'reg_lambda': [2, 5, 10],\n",
    "    'subsample': [0.55, 0.6, .65],\n",
    "    'learning_rate':[0.5],\n",
    "    'gamma':[.5,1,2],\n",
    "    'min_child_weight':[0.01],\n",
    "    'sampling_method': ['uniform']\n",
    "}\n",
    "\n",
    "clf_xgb = GridSearchCV(xgb, param_grid = param_grid, cv = 5, verbose = True, n_jobs = -1)\n",
    "best_clf_xgb = clf_xgb.fit(X_train,y_train)\n",
    "clf_performance(best_clf_xgb,'XGB')"
   ]
  },
  {
   "cell_type": "markdown",
   "metadata": {
    "papermill": {
     "duration": 0.123598,
     "end_time": "2020-12-22T16:55:07.623581",
     "exception": false,
     "start_time": "2020-12-22T16:55:07.499983",
     "status": "completed"
    },
    "tags": []
   },
   "source": [
    "# Best Results"
   ]
  },
  {
   "cell_type": "code",
   "execution_count": 82,
   "metadata": {
    "execution": {
     "iopub.execute_input": "2020-12-22T16:55:07.882171Z",
     "iopub.status.busy": "2020-12-22T16:55:07.881077Z",
     "iopub.status.idle": "2020-12-22T16:55:07.891083Z",
     "shell.execute_reply": "2020-12-22T16:55:07.891881Z"
    },
    "papermill": {
     "duration": 0.14367,
     "end_time": "2020-12-22T16:55:07.892070",
     "exception": false,
     "start_time": "2020-12-22T16:55:07.748400",
     "status": "completed"
    },
    "tags": []
   },
   "outputs": [],
   "source": [
    "test_result = pd.Series(best_clf_xgb.predict(test), name = \"Survived\").astype(int)\n",
    "results = pd.concat([test_data[\"PassengerId\"], test_result],axis = 1)\n",
    "results.to_csv(\"titanic_submission1.csv\", index = False)\n"
   ]
  },
  {
   "cell_type": "code",
   "execution_count": null,
   "metadata": {
    "papermill": {
     "duration": 0.132465,
     "end_time": "2020-12-22T16:55:08.188575",
     "exception": false,
     "start_time": "2020-12-22T16:55:08.056110",
     "status": "completed"
    },
    "tags": []
   },
   "outputs": [],
   "source": []
  }
 ],
 "metadata": {
  "kernelspec": {
   "display_name": "Python 3",
   "language": "python",
   "name": "python3"
  },
  "language_info": {
   "codemirror_mode": {
    "name": "ipython",
    "version": 3
   },
   "file_extension": ".py",
   "mimetype": "text/x-python",
   "name": "python",
   "nbconvert_exporter": "python",
   "pygments_lexer": "ipython3",
   "version": "3.7.6"
  },
  "papermill": {
   "duration": 882.261427,
   "end_time": "2020-12-22T16:55:08.426179",
   "environment_variables": {},
   "exception": null,
   "input_path": "__notebook__.ipynb",
   "output_path": "__notebook__.ipynb",
   "parameters": {},
   "start_time": "2020-12-22T16:40:26.164752",
   "version": "2.1.0"
  }
 },
 "nbformat": 4,
 "nbformat_minor": 4
}
